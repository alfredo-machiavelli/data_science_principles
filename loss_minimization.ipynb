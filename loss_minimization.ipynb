{
  "nbformat": 4,
  "nbformat_minor": 0,
  "metadata": {
    "colab": {
      "name": "Copy of Homework4",
      "provenance": [],
      "collapsed_sections": [
        "MzWJ0hrg7z77",
        "dhaotzzsjFiB",
        "OBdd21_SqJ9V",
        "ZPCD-n7hMbN4",
        "VyXTChWzzApx",
        "Ulb-RSmYpfjo",
        "EvgCl9bxBJ3q",
        "J48100Fj6OW5",
        "XZlbf4X9guWG"
      ]
    },
    "kernelspec": {
      "name": "python3",
      "display_name": "Python 3"
    },
    "language_info": {
      "name": "python"
    },
    "widgets": {
      "application/vnd.jupyter.widget-state+json": {
        "9df2f11aeb2c4c11a77fc6497c613f7a": {
          "model_module": "@jupyter-widgets/controls",
          "model_name": "HBoxModel",
          "model_module_version": "1.5.0",
          "state": {
            "_dom_classes": [],
            "_model_module": "@jupyter-widgets/controls",
            "_model_module_version": "1.5.0",
            "_model_name": "HBoxModel",
            "_view_count": null,
            "_view_module": "@jupyter-widgets/controls",
            "_view_module_version": "1.5.0",
            "_view_name": "HBoxView",
            "box_style": "",
            "children": [
              "IPY_MODEL_a8a394169f6146c2a58c7e0fd2c8df3d",
              "IPY_MODEL_34e5b9ffab2c4d20b8b5609daab069c2",
              "IPY_MODEL_53b14808cbe346faad8098ef30a21782"
            ],
            "layout": "IPY_MODEL_92cdae951d9644e2bcd7c1ae842b7713"
          }
        },
        "a8a394169f6146c2a58c7e0fd2c8df3d": {
          "model_module": "@jupyter-widgets/controls",
          "model_name": "HTMLModel",
          "model_module_version": "1.5.0",
          "state": {
            "_dom_classes": [],
            "_model_module": "@jupyter-widgets/controls",
            "_model_module_version": "1.5.0",
            "_model_name": "HTMLModel",
            "_view_count": null,
            "_view_module": "@jupyter-widgets/controls",
            "_view_module_version": "1.5.0",
            "_view_name": "HTMLView",
            "description": "",
            "description_tooltip": null,
            "layout": "IPY_MODEL_f650b886852e4162a73fcdc63b11dcd3",
            "placeholder": "​",
            "style": "IPY_MODEL_2f18497f463b4cf0a4048bb40b2d6566",
            "value": ""
          }
        },
        "34e5b9ffab2c4d20b8b5609daab069c2": {
          "model_module": "@jupyter-widgets/controls",
          "model_name": "FloatProgressModel",
          "model_module_version": "1.5.0",
          "state": {
            "_dom_classes": [],
            "_model_module": "@jupyter-widgets/controls",
            "_model_module_version": "1.5.0",
            "_model_name": "FloatProgressModel",
            "_view_count": null,
            "_view_module": "@jupyter-widgets/controls",
            "_view_module_version": "1.5.0",
            "_view_name": "ProgressView",
            "bar_style": "success",
            "description": "",
            "description_tooltip": null,
            "layout": "IPY_MODEL_7578ffb92a494365bb75f694bd25c254",
            "max": 9912422,
            "min": 0,
            "orientation": "horizontal",
            "style": "IPY_MODEL_51d85b36c3f545f99a7433979582bf02",
            "value": 9912422
          }
        },
        "53b14808cbe346faad8098ef30a21782": {
          "model_module": "@jupyter-widgets/controls",
          "model_name": "HTMLModel",
          "model_module_version": "1.5.0",
          "state": {
            "_dom_classes": [],
            "_model_module": "@jupyter-widgets/controls",
            "_model_module_version": "1.5.0",
            "_model_name": "HTMLModel",
            "_view_count": null,
            "_view_module": "@jupyter-widgets/controls",
            "_view_module_version": "1.5.0",
            "_view_name": "HTMLView",
            "description": "",
            "description_tooltip": null,
            "layout": "IPY_MODEL_c71b4dad15b7488ab682134bdd7cd53a",
            "placeholder": "​",
            "style": "IPY_MODEL_6aebaf3633c7415c9948ba0c43c2360d",
            "value": " 9913344/? [00:00&lt;00:00, 44040391.99it/s]"
          }
        },
        "92cdae951d9644e2bcd7c1ae842b7713": {
          "model_module": "@jupyter-widgets/base",
          "model_name": "LayoutModel",
          "model_module_version": "1.2.0",
          "state": {
            "_model_module": "@jupyter-widgets/base",
            "_model_module_version": "1.2.0",
            "_model_name": "LayoutModel",
            "_view_count": null,
            "_view_module": "@jupyter-widgets/base",
            "_view_module_version": "1.2.0",
            "_view_name": "LayoutView",
            "align_content": null,
            "align_items": null,
            "align_self": null,
            "border": null,
            "bottom": null,
            "display": null,
            "flex": null,
            "flex_flow": null,
            "grid_area": null,
            "grid_auto_columns": null,
            "grid_auto_flow": null,
            "grid_auto_rows": null,
            "grid_column": null,
            "grid_gap": null,
            "grid_row": null,
            "grid_template_areas": null,
            "grid_template_columns": null,
            "grid_template_rows": null,
            "height": null,
            "justify_content": null,
            "justify_items": null,
            "left": null,
            "margin": null,
            "max_height": null,
            "max_width": null,
            "min_height": null,
            "min_width": null,
            "object_fit": null,
            "object_position": null,
            "order": null,
            "overflow": null,
            "overflow_x": null,
            "overflow_y": null,
            "padding": null,
            "right": null,
            "top": null,
            "visibility": null,
            "width": null
          }
        },
        "f650b886852e4162a73fcdc63b11dcd3": {
          "model_module": "@jupyter-widgets/base",
          "model_name": "LayoutModel",
          "model_module_version": "1.2.0",
          "state": {
            "_model_module": "@jupyter-widgets/base",
            "_model_module_version": "1.2.0",
            "_model_name": "LayoutModel",
            "_view_count": null,
            "_view_module": "@jupyter-widgets/base",
            "_view_module_version": "1.2.0",
            "_view_name": "LayoutView",
            "align_content": null,
            "align_items": null,
            "align_self": null,
            "border": null,
            "bottom": null,
            "display": null,
            "flex": null,
            "flex_flow": null,
            "grid_area": null,
            "grid_auto_columns": null,
            "grid_auto_flow": null,
            "grid_auto_rows": null,
            "grid_column": null,
            "grid_gap": null,
            "grid_row": null,
            "grid_template_areas": null,
            "grid_template_columns": null,
            "grid_template_rows": null,
            "height": null,
            "justify_content": null,
            "justify_items": null,
            "left": null,
            "margin": null,
            "max_height": null,
            "max_width": null,
            "min_height": null,
            "min_width": null,
            "object_fit": null,
            "object_position": null,
            "order": null,
            "overflow": null,
            "overflow_x": null,
            "overflow_y": null,
            "padding": null,
            "right": null,
            "top": null,
            "visibility": null,
            "width": null
          }
        },
        "2f18497f463b4cf0a4048bb40b2d6566": {
          "model_module": "@jupyter-widgets/controls",
          "model_name": "DescriptionStyleModel",
          "model_module_version": "1.5.0",
          "state": {
            "_model_module": "@jupyter-widgets/controls",
            "_model_module_version": "1.5.0",
            "_model_name": "DescriptionStyleModel",
            "_view_count": null,
            "_view_module": "@jupyter-widgets/base",
            "_view_module_version": "1.2.0",
            "_view_name": "StyleView",
            "description_width": ""
          }
        },
        "7578ffb92a494365bb75f694bd25c254": {
          "model_module": "@jupyter-widgets/base",
          "model_name": "LayoutModel",
          "model_module_version": "1.2.0",
          "state": {
            "_model_module": "@jupyter-widgets/base",
            "_model_module_version": "1.2.0",
            "_model_name": "LayoutModel",
            "_view_count": null,
            "_view_module": "@jupyter-widgets/base",
            "_view_module_version": "1.2.0",
            "_view_name": "LayoutView",
            "align_content": null,
            "align_items": null,
            "align_self": null,
            "border": null,
            "bottom": null,
            "display": null,
            "flex": null,
            "flex_flow": null,
            "grid_area": null,
            "grid_auto_columns": null,
            "grid_auto_flow": null,
            "grid_auto_rows": null,
            "grid_column": null,
            "grid_gap": null,
            "grid_row": null,
            "grid_template_areas": null,
            "grid_template_columns": null,
            "grid_template_rows": null,
            "height": null,
            "justify_content": null,
            "justify_items": null,
            "left": null,
            "margin": null,
            "max_height": null,
            "max_width": null,
            "min_height": null,
            "min_width": null,
            "object_fit": null,
            "object_position": null,
            "order": null,
            "overflow": null,
            "overflow_x": null,
            "overflow_y": null,
            "padding": null,
            "right": null,
            "top": null,
            "visibility": null,
            "width": null
          }
        },
        "51d85b36c3f545f99a7433979582bf02": {
          "model_module": "@jupyter-widgets/controls",
          "model_name": "ProgressStyleModel",
          "model_module_version": "1.5.0",
          "state": {
            "_model_module": "@jupyter-widgets/controls",
            "_model_module_version": "1.5.0",
            "_model_name": "ProgressStyleModel",
            "_view_count": null,
            "_view_module": "@jupyter-widgets/base",
            "_view_module_version": "1.2.0",
            "_view_name": "StyleView",
            "bar_color": null,
            "description_width": ""
          }
        },
        "c71b4dad15b7488ab682134bdd7cd53a": {
          "model_module": "@jupyter-widgets/base",
          "model_name": "LayoutModel",
          "model_module_version": "1.2.0",
          "state": {
            "_model_module": "@jupyter-widgets/base",
            "_model_module_version": "1.2.0",
            "_model_name": "LayoutModel",
            "_view_count": null,
            "_view_module": "@jupyter-widgets/base",
            "_view_module_version": "1.2.0",
            "_view_name": "LayoutView",
            "align_content": null,
            "align_items": null,
            "align_self": null,
            "border": null,
            "bottom": null,
            "display": null,
            "flex": null,
            "flex_flow": null,
            "grid_area": null,
            "grid_auto_columns": null,
            "grid_auto_flow": null,
            "grid_auto_rows": null,
            "grid_column": null,
            "grid_gap": null,
            "grid_row": null,
            "grid_template_areas": null,
            "grid_template_columns": null,
            "grid_template_rows": null,
            "height": null,
            "justify_content": null,
            "justify_items": null,
            "left": null,
            "margin": null,
            "max_height": null,
            "max_width": null,
            "min_height": null,
            "min_width": null,
            "object_fit": null,
            "object_position": null,
            "order": null,
            "overflow": null,
            "overflow_x": null,
            "overflow_y": null,
            "padding": null,
            "right": null,
            "top": null,
            "visibility": null,
            "width": null
          }
        },
        "6aebaf3633c7415c9948ba0c43c2360d": {
          "model_module": "@jupyter-widgets/controls",
          "model_name": "DescriptionStyleModel",
          "model_module_version": "1.5.0",
          "state": {
            "_model_module": "@jupyter-widgets/controls",
            "_model_module_version": "1.5.0",
            "_model_name": "DescriptionStyleModel",
            "_view_count": null,
            "_view_module": "@jupyter-widgets/base",
            "_view_module_version": "1.2.0",
            "_view_name": "StyleView",
            "description_width": ""
          }
        },
        "091ef9b6b67343798f748cc8f5814228": {
          "model_module": "@jupyter-widgets/controls",
          "model_name": "HBoxModel",
          "model_module_version": "1.5.0",
          "state": {
            "_dom_classes": [],
            "_model_module": "@jupyter-widgets/controls",
            "_model_module_version": "1.5.0",
            "_model_name": "HBoxModel",
            "_view_count": null,
            "_view_module": "@jupyter-widgets/controls",
            "_view_module_version": "1.5.0",
            "_view_name": "HBoxView",
            "box_style": "",
            "children": [
              "IPY_MODEL_7450150033974d63839f9ffeaf39da7d",
              "IPY_MODEL_5e26990b223640d4982b0b5db12d76e9",
              "IPY_MODEL_831636b2d07b46eca98809f72058e519"
            ],
            "layout": "IPY_MODEL_9356e2d99a9b49158b36674a5c0ba502"
          }
        },
        "7450150033974d63839f9ffeaf39da7d": {
          "model_module": "@jupyter-widgets/controls",
          "model_name": "HTMLModel",
          "model_module_version": "1.5.0",
          "state": {
            "_dom_classes": [],
            "_model_module": "@jupyter-widgets/controls",
            "_model_module_version": "1.5.0",
            "_model_name": "HTMLModel",
            "_view_count": null,
            "_view_module": "@jupyter-widgets/controls",
            "_view_module_version": "1.5.0",
            "_view_name": "HTMLView",
            "description": "",
            "description_tooltip": null,
            "layout": "IPY_MODEL_fae4ba0c18ea4e50aeb77f8f20db1db6",
            "placeholder": "​",
            "style": "IPY_MODEL_c5b49b64cdd644a78d0cf55de3560461",
            "value": ""
          }
        },
        "5e26990b223640d4982b0b5db12d76e9": {
          "model_module": "@jupyter-widgets/controls",
          "model_name": "FloatProgressModel",
          "model_module_version": "1.5.0",
          "state": {
            "_dom_classes": [],
            "_model_module": "@jupyter-widgets/controls",
            "_model_module_version": "1.5.0",
            "_model_name": "FloatProgressModel",
            "_view_count": null,
            "_view_module": "@jupyter-widgets/controls",
            "_view_module_version": "1.5.0",
            "_view_name": "ProgressView",
            "bar_style": "success",
            "description": "",
            "description_tooltip": null,
            "layout": "IPY_MODEL_8839ccdbf35f42f19945a78b10a7347d",
            "max": 28881,
            "min": 0,
            "orientation": "horizontal",
            "style": "IPY_MODEL_123f81e94ea44a71820f58f989f9e7a3",
            "value": 28881
          }
        },
        "831636b2d07b46eca98809f72058e519": {
          "model_module": "@jupyter-widgets/controls",
          "model_name": "HTMLModel",
          "model_module_version": "1.5.0",
          "state": {
            "_dom_classes": [],
            "_model_module": "@jupyter-widgets/controls",
            "_model_module_version": "1.5.0",
            "_model_name": "HTMLModel",
            "_view_count": null,
            "_view_module": "@jupyter-widgets/controls",
            "_view_module_version": "1.5.0",
            "_view_name": "HTMLView",
            "description": "",
            "description_tooltip": null,
            "layout": "IPY_MODEL_8faa71bf5c5e4967bcae7b4d3e28f04c",
            "placeholder": "​",
            "style": "IPY_MODEL_04132f55dd4e412988651f83064213b1",
            "value": " 29696/? [00:00&lt;00:00, 791387.16it/s]"
          }
        },
        "9356e2d99a9b49158b36674a5c0ba502": {
          "model_module": "@jupyter-widgets/base",
          "model_name": "LayoutModel",
          "model_module_version": "1.2.0",
          "state": {
            "_model_module": "@jupyter-widgets/base",
            "_model_module_version": "1.2.0",
            "_model_name": "LayoutModel",
            "_view_count": null,
            "_view_module": "@jupyter-widgets/base",
            "_view_module_version": "1.2.0",
            "_view_name": "LayoutView",
            "align_content": null,
            "align_items": null,
            "align_self": null,
            "border": null,
            "bottom": null,
            "display": null,
            "flex": null,
            "flex_flow": null,
            "grid_area": null,
            "grid_auto_columns": null,
            "grid_auto_flow": null,
            "grid_auto_rows": null,
            "grid_column": null,
            "grid_gap": null,
            "grid_row": null,
            "grid_template_areas": null,
            "grid_template_columns": null,
            "grid_template_rows": null,
            "height": null,
            "justify_content": null,
            "justify_items": null,
            "left": null,
            "margin": null,
            "max_height": null,
            "max_width": null,
            "min_height": null,
            "min_width": null,
            "object_fit": null,
            "object_position": null,
            "order": null,
            "overflow": null,
            "overflow_x": null,
            "overflow_y": null,
            "padding": null,
            "right": null,
            "top": null,
            "visibility": null,
            "width": null
          }
        },
        "fae4ba0c18ea4e50aeb77f8f20db1db6": {
          "model_module": "@jupyter-widgets/base",
          "model_name": "LayoutModel",
          "model_module_version": "1.2.0",
          "state": {
            "_model_module": "@jupyter-widgets/base",
            "_model_module_version": "1.2.0",
            "_model_name": "LayoutModel",
            "_view_count": null,
            "_view_module": "@jupyter-widgets/base",
            "_view_module_version": "1.2.0",
            "_view_name": "LayoutView",
            "align_content": null,
            "align_items": null,
            "align_self": null,
            "border": null,
            "bottom": null,
            "display": null,
            "flex": null,
            "flex_flow": null,
            "grid_area": null,
            "grid_auto_columns": null,
            "grid_auto_flow": null,
            "grid_auto_rows": null,
            "grid_column": null,
            "grid_gap": null,
            "grid_row": null,
            "grid_template_areas": null,
            "grid_template_columns": null,
            "grid_template_rows": null,
            "height": null,
            "justify_content": null,
            "justify_items": null,
            "left": null,
            "margin": null,
            "max_height": null,
            "max_width": null,
            "min_height": null,
            "min_width": null,
            "object_fit": null,
            "object_position": null,
            "order": null,
            "overflow": null,
            "overflow_x": null,
            "overflow_y": null,
            "padding": null,
            "right": null,
            "top": null,
            "visibility": null,
            "width": null
          }
        },
        "c5b49b64cdd644a78d0cf55de3560461": {
          "model_module": "@jupyter-widgets/controls",
          "model_name": "DescriptionStyleModel",
          "model_module_version": "1.5.0",
          "state": {
            "_model_module": "@jupyter-widgets/controls",
            "_model_module_version": "1.5.0",
            "_model_name": "DescriptionStyleModel",
            "_view_count": null,
            "_view_module": "@jupyter-widgets/base",
            "_view_module_version": "1.2.0",
            "_view_name": "StyleView",
            "description_width": ""
          }
        },
        "8839ccdbf35f42f19945a78b10a7347d": {
          "model_module": "@jupyter-widgets/base",
          "model_name": "LayoutModel",
          "model_module_version": "1.2.0",
          "state": {
            "_model_module": "@jupyter-widgets/base",
            "_model_module_version": "1.2.0",
            "_model_name": "LayoutModel",
            "_view_count": null,
            "_view_module": "@jupyter-widgets/base",
            "_view_module_version": "1.2.0",
            "_view_name": "LayoutView",
            "align_content": null,
            "align_items": null,
            "align_self": null,
            "border": null,
            "bottom": null,
            "display": null,
            "flex": null,
            "flex_flow": null,
            "grid_area": null,
            "grid_auto_columns": null,
            "grid_auto_flow": null,
            "grid_auto_rows": null,
            "grid_column": null,
            "grid_gap": null,
            "grid_row": null,
            "grid_template_areas": null,
            "grid_template_columns": null,
            "grid_template_rows": null,
            "height": null,
            "justify_content": null,
            "justify_items": null,
            "left": null,
            "margin": null,
            "max_height": null,
            "max_width": null,
            "min_height": null,
            "min_width": null,
            "object_fit": null,
            "object_position": null,
            "order": null,
            "overflow": null,
            "overflow_x": null,
            "overflow_y": null,
            "padding": null,
            "right": null,
            "top": null,
            "visibility": null,
            "width": null
          }
        },
        "123f81e94ea44a71820f58f989f9e7a3": {
          "model_module": "@jupyter-widgets/controls",
          "model_name": "ProgressStyleModel",
          "model_module_version": "1.5.0",
          "state": {
            "_model_module": "@jupyter-widgets/controls",
            "_model_module_version": "1.5.0",
            "_model_name": "ProgressStyleModel",
            "_view_count": null,
            "_view_module": "@jupyter-widgets/base",
            "_view_module_version": "1.2.0",
            "_view_name": "StyleView",
            "bar_color": null,
            "description_width": ""
          }
        },
        "8faa71bf5c5e4967bcae7b4d3e28f04c": {
          "model_module": "@jupyter-widgets/base",
          "model_name": "LayoutModel",
          "model_module_version": "1.2.0",
          "state": {
            "_model_module": "@jupyter-widgets/base",
            "_model_module_version": "1.2.0",
            "_model_name": "LayoutModel",
            "_view_count": null,
            "_view_module": "@jupyter-widgets/base",
            "_view_module_version": "1.2.0",
            "_view_name": "LayoutView",
            "align_content": null,
            "align_items": null,
            "align_self": null,
            "border": null,
            "bottom": null,
            "display": null,
            "flex": null,
            "flex_flow": null,
            "grid_area": null,
            "grid_auto_columns": null,
            "grid_auto_flow": null,
            "grid_auto_rows": null,
            "grid_column": null,
            "grid_gap": null,
            "grid_row": null,
            "grid_template_areas": null,
            "grid_template_columns": null,
            "grid_template_rows": null,
            "height": null,
            "justify_content": null,
            "justify_items": null,
            "left": null,
            "margin": null,
            "max_height": null,
            "max_width": null,
            "min_height": null,
            "min_width": null,
            "object_fit": null,
            "object_position": null,
            "order": null,
            "overflow": null,
            "overflow_x": null,
            "overflow_y": null,
            "padding": null,
            "right": null,
            "top": null,
            "visibility": null,
            "width": null
          }
        },
        "04132f55dd4e412988651f83064213b1": {
          "model_module": "@jupyter-widgets/controls",
          "model_name": "DescriptionStyleModel",
          "model_module_version": "1.5.0",
          "state": {
            "_model_module": "@jupyter-widgets/controls",
            "_model_module_version": "1.5.0",
            "_model_name": "DescriptionStyleModel",
            "_view_count": null,
            "_view_module": "@jupyter-widgets/base",
            "_view_module_version": "1.2.0",
            "_view_name": "StyleView",
            "description_width": ""
          }
        },
        "e8adba57ba314333b83e2d827a41960d": {
          "model_module": "@jupyter-widgets/controls",
          "model_name": "HBoxModel",
          "model_module_version": "1.5.0",
          "state": {
            "_dom_classes": [],
            "_model_module": "@jupyter-widgets/controls",
            "_model_module_version": "1.5.0",
            "_model_name": "HBoxModel",
            "_view_count": null,
            "_view_module": "@jupyter-widgets/controls",
            "_view_module_version": "1.5.0",
            "_view_name": "HBoxView",
            "box_style": "",
            "children": [
              "IPY_MODEL_6e036eeb9d2b41879097e16eddcd1700",
              "IPY_MODEL_6e87a8ad47764a00aae55983a59d9555",
              "IPY_MODEL_28df2bba308a4bdb847149eee963cc64"
            ],
            "layout": "IPY_MODEL_7951292f190c4c0a833670fd15d3c5f0"
          }
        },
        "6e036eeb9d2b41879097e16eddcd1700": {
          "model_module": "@jupyter-widgets/controls",
          "model_name": "HTMLModel",
          "model_module_version": "1.5.0",
          "state": {
            "_dom_classes": [],
            "_model_module": "@jupyter-widgets/controls",
            "_model_module_version": "1.5.0",
            "_model_name": "HTMLModel",
            "_view_count": null,
            "_view_module": "@jupyter-widgets/controls",
            "_view_module_version": "1.5.0",
            "_view_name": "HTMLView",
            "description": "",
            "description_tooltip": null,
            "layout": "IPY_MODEL_655978ca8aa2480da90c998f8030256b",
            "placeholder": "​",
            "style": "IPY_MODEL_01e2f3f435db40468f2354e67624c579",
            "value": ""
          }
        },
        "6e87a8ad47764a00aae55983a59d9555": {
          "model_module": "@jupyter-widgets/controls",
          "model_name": "FloatProgressModel",
          "model_module_version": "1.5.0",
          "state": {
            "_dom_classes": [],
            "_model_module": "@jupyter-widgets/controls",
            "_model_module_version": "1.5.0",
            "_model_name": "FloatProgressModel",
            "_view_count": null,
            "_view_module": "@jupyter-widgets/controls",
            "_view_module_version": "1.5.0",
            "_view_name": "ProgressView",
            "bar_style": "success",
            "description": "",
            "description_tooltip": null,
            "layout": "IPY_MODEL_7af641422a9d4927a52243388513ed2d",
            "max": 1648877,
            "min": 0,
            "orientation": "horizontal",
            "style": "IPY_MODEL_b7820df412454e63a22747f903863c97",
            "value": 1648877
          }
        },
        "28df2bba308a4bdb847149eee963cc64": {
          "model_module": "@jupyter-widgets/controls",
          "model_name": "HTMLModel",
          "model_module_version": "1.5.0",
          "state": {
            "_dom_classes": [],
            "_model_module": "@jupyter-widgets/controls",
            "_model_module_version": "1.5.0",
            "_model_name": "HTMLModel",
            "_view_count": null,
            "_view_module": "@jupyter-widgets/controls",
            "_view_module_version": "1.5.0",
            "_view_name": "HTMLView",
            "description": "",
            "description_tooltip": null,
            "layout": "IPY_MODEL_6c436498332745a485abdf6fb8b3925a",
            "placeholder": "​",
            "style": "IPY_MODEL_db1f167ef0b043aeb82cd01d452fbb8f",
            "value": " 1649664/? [00:00&lt;00:00, 21397402.06it/s]"
          }
        },
        "7951292f190c4c0a833670fd15d3c5f0": {
          "model_module": "@jupyter-widgets/base",
          "model_name": "LayoutModel",
          "model_module_version": "1.2.0",
          "state": {
            "_model_module": "@jupyter-widgets/base",
            "_model_module_version": "1.2.0",
            "_model_name": "LayoutModel",
            "_view_count": null,
            "_view_module": "@jupyter-widgets/base",
            "_view_module_version": "1.2.0",
            "_view_name": "LayoutView",
            "align_content": null,
            "align_items": null,
            "align_self": null,
            "border": null,
            "bottom": null,
            "display": null,
            "flex": null,
            "flex_flow": null,
            "grid_area": null,
            "grid_auto_columns": null,
            "grid_auto_flow": null,
            "grid_auto_rows": null,
            "grid_column": null,
            "grid_gap": null,
            "grid_row": null,
            "grid_template_areas": null,
            "grid_template_columns": null,
            "grid_template_rows": null,
            "height": null,
            "justify_content": null,
            "justify_items": null,
            "left": null,
            "margin": null,
            "max_height": null,
            "max_width": null,
            "min_height": null,
            "min_width": null,
            "object_fit": null,
            "object_position": null,
            "order": null,
            "overflow": null,
            "overflow_x": null,
            "overflow_y": null,
            "padding": null,
            "right": null,
            "top": null,
            "visibility": null,
            "width": null
          }
        },
        "655978ca8aa2480da90c998f8030256b": {
          "model_module": "@jupyter-widgets/base",
          "model_name": "LayoutModel",
          "model_module_version": "1.2.0",
          "state": {
            "_model_module": "@jupyter-widgets/base",
            "_model_module_version": "1.2.0",
            "_model_name": "LayoutModel",
            "_view_count": null,
            "_view_module": "@jupyter-widgets/base",
            "_view_module_version": "1.2.0",
            "_view_name": "LayoutView",
            "align_content": null,
            "align_items": null,
            "align_self": null,
            "border": null,
            "bottom": null,
            "display": null,
            "flex": null,
            "flex_flow": null,
            "grid_area": null,
            "grid_auto_columns": null,
            "grid_auto_flow": null,
            "grid_auto_rows": null,
            "grid_column": null,
            "grid_gap": null,
            "grid_row": null,
            "grid_template_areas": null,
            "grid_template_columns": null,
            "grid_template_rows": null,
            "height": null,
            "justify_content": null,
            "justify_items": null,
            "left": null,
            "margin": null,
            "max_height": null,
            "max_width": null,
            "min_height": null,
            "min_width": null,
            "object_fit": null,
            "object_position": null,
            "order": null,
            "overflow": null,
            "overflow_x": null,
            "overflow_y": null,
            "padding": null,
            "right": null,
            "top": null,
            "visibility": null,
            "width": null
          }
        },
        "01e2f3f435db40468f2354e67624c579": {
          "model_module": "@jupyter-widgets/controls",
          "model_name": "DescriptionStyleModel",
          "model_module_version": "1.5.0",
          "state": {
            "_model_module": "@jupyter-widgets/controls",
            "_model_module_version": "1.5.0",
            "_model_name": "DescriptionStyleModel",
            "_view_count": null,
            "_view_module": "@jupyter-widgets/base",
            "_view_module_version": "1.2.0",
            "_view_name": "StyleView",
            "description_width": ""
          }
        },
        "7af641422a9d4927a52243388513ed2d": {
          "model_module": "@jupyter-widgets/base",
          "model_name": "LayoutModel",
          "model_module_version": "1.2.0",
          "state": {
            "_model_module": "@jupyter-widgets/base",
            "_model_module_version": "1.2.0",
            "_model_name": "LayoutModel",
            "_view_count": null,
            "_view_module": "@jupyter-widgets/base",
            "_view_module_version": "1.2.0",
            "_view_name": "LayoutView",
            "align_content": null,
            "align_items": null,
            "align_self": null,
            "border": null,
            "bottom": null,
            "display": null,
            "flex": null,
            "flex_flow": null,
            "grid_area": null,
            "grid_auto_columns": null,
            "grid_auto_flow": null,
            "grid_auto_rows": null,
            "grid_column": null,
            "grid_gap": null,
            "grid_row": null,
            "grid_template_areas": null,
            "grid_template_columns": null,
            "grid_template_rows": null,
            "height": null,
            "justify_content": null,
            "justify_items": null,
            "left": null,
            "margin": null,
            "max_height": null,
            "max_width": null,
            "min_height": null,
            "min_width": null,
            "object_fit": null,
            "object_position": null,
            "order": null,
            "overflow": null,
            "overflow_x": null,
            "overflow_y": null,
            "padding": null,
            "right": null,
            "top": null,
            "visibility": null,
            "width": null
          }
        },
        "b7820df412454e63a22747f903863c97": {
          "model_module": "@jupyter-widgets/controls",
          "model_name": "ProgressStyleModel",
          "model_module_version": "1.5.0",
          "state": {
            "_model_module": "@jupyter-widgets/controls",
            "_model_module_version": "1.5.0",
            "_model_name": "ProgressStyleModel",
            "_view_count": null,
            "_view_module": "@jupyter-widgets/base",
            "_view_module_version": "1.2.0",
            "_view_name": "StyleView",
            "bar_color": null,
            "description_width": ""
          }
        },
        "6c436498332745a485abdf6fb8b3925a": {
          "model_module": "@jupyter-widgets/base",
          "model_name": "LayoutModel",
          "model_module_version": "1.2.0",
          "state": {
            "_model_module": "@jupyter-widgets/base",
            "_model_module_version": "1.2.0",
            "_model_name": "LayoutModel",
            "_view_count": null,
            "_view_module": "@jupyter-widgets/base",
            "_view_module_version": "1.2.0",
            "_view_name": "LayoutView",
            "align_content": null,
            "align_items": null,
            "align_self": null,
            "border": null,
            "bottom": null,
            "display": null,
            "flex": null,
            "flex_flow": null,
            "grid_area": null,
            "grid_auto_columns": null,
            "grid_auto_flow": null,
            "grid_auto_rows": null,
            "grid_column": null,
            "grid_gap": null,
            "grid_row": null,
            "grid_template_areas": null,
            "grid_template_columns": null,
            "grid_template_rows": null,
            "height": null,
            "justify_content": null,
            "justify_items": null,
            "left": null,
            "margin": null,
            "max_height": null,
            "max_width": null,
            "min_height": null,
            "min_width": null,
            "object_fit": null,
            "object_position": null,
            "order": null,
            "overflow": null,
            "overflow_x": null,
            "overflow_y": null,
            "padding": null,
            "right": null,
            "top": null,
            "visibility": null,
            "width": null
          }
        },
        "db1f167ef0b043aeb82cd01d452fbb8f": {
          "model_module": "@jupyter-widgets/controls",
          "model_name": "DescriptionStyleModel",
          "model_module_version": "1.5.0",
          "state": {
            "_model_module": "@jupyter-widgets/controls",
            "_model_module_version": "1.5.0",
            "_model_name": "DescriptionStyleModel",
            "_view_count": null,
            "_view_module": "@jupyter-widgets/base",
            "_view_module_version": "1.2.0",
            "_view_name": "StyleView",
            "description_width": ""
          }
        },
        "e52bf5fa58d449a18922137a9748c49d": {
          "model_module": "@jupyter-widgets/controls",
          "model_name": "HBoxModel",
          "model_module_version": "1.5.0",
          "state": {
            "_dom_classes": [],
            "_model_module": "@jupyter-widgets/controls",
            "_model_module_version": "1.5.0",
            "_model_name": "HBoxModel",
            "_view_count": null,
            "_view_module": "@jupyter-widgets/controls",
            "_view_module_version": "1.5.0",
            "_view_name": "HBoxView",
            "box_style": "",
            "children": [
              "IPY_MODEL_ab35ae469934483596f32d2555c9acc5",
              "IPY_MODEL_d4a35747a40448aeb399de92820d5412",
              "IPY_MODEL_5d788ac2324948c0becaaa5d953a7e00"
            ],
            "layout": "IPY_MODEL_d529c11f429d43c494ff600b935f7873"
          }
        },
        "ab35ae469934483596f32d2555c9acc5": {
          "model_module": "@jupyter-widgets/controls",
          "model_name": "HTMLModel",
          "model_module_version": "1.5.0",
          "state": {
            "_dom_classes": [],
            "_model_module": "@jupyter-widgets/controls",
            "_model_module_version": "1.5.0",
            "_model_name": "HTMLModel",
            "_view_count": null,
            "_view_module": "@jupyter-widgets/controls",
            "_view_module_version": "1.5.0",
            "_view_name": "HTMLView",
            "description": "",
            "description_tooltip": null,
            "layout": "IPY_MODEL_766b937d6a2f4a6eb9b2f2bb37f4ade9",
            "placeholder": "​",
            "style": "IPY_MODEL_a11dc794bed147599e4d5c6a1a1e6d7a",
            "value": ""
          }
        },
        "d4a35747a40448aeb399de92820d5412": {
          "model_module": "@jupyter-widgets/controls",
          "model_name": "FloatProgressModel",
          "model_module_version": "1.5.0",
          "state": {
            "_dom_classes": [],
            "_model_module": "@jupyter-widgets/controls",
            "_model_module_version": "1.5.0",
            "_model_name": "FloatProgressModel",
            "_view_count": null,
            "_view_module": "@jupyter-widgets/controls",
            "_view_module_version": "1.5.0",
            "_view_name": "ProgressView",
            "bar_style": "success",
            "description": "",
            "description_tooltip": null,
            "layout": "IPY_MODEL_03954d8981674f6892cedf8f0a247e8d",
            "max": 4542,
            "min": 0,
            "orientation": "horizontal",
            "style": "IPY_MODEL_2d46866edc4c4f7780fd775afca026ba",
            "value": 4542
          }
        },
        "5d788ac2324948c0becaaa5d953a7e00": {
          "model_module": "@jupyter-widgets/controls",
          "model_name": "HTMLModel",
          "model_module_version": "1.5.0",
          "state": {
            "_dom_classes": [],
            "_model_module": "@jupyter-widgets/controls",
            "_model_module_version": "1.5.0",
            "_model_name": "HTMLModel",
            "_view_count": null,
            "_view_module": "@jupyter-widgets/controls",
            "_view_module_version": "1.5.0",
            "_view_name": "HTMLView",
            "description": "",
            "description_tooltip": null,
            "layout": "IPY_MODEL_e73c06a70d1a4db681765e6a28ef5bc4",
            "placeholder": "​",
            "style": "IPY_MODEL_6dc43da531b2403eb58f0188e8f5a99a",
            "value": " 5120/? [00:00&lt;00:00, 116970.44it/s]"
          }
        },
        "d529c11f429d43c494ff600b935f7873": {
          "model_module": "@jupyter-widgets/base",
          "model_name": "LayoutModel",
          "model_module_version": "1.2.0",
          "state": {
            "_model_module": "@jupyter-widgets/base",
            "_model_module_version": "1.2.0",
            "_model_name": "LayoutModel",
            "_view_count": null,
            "_view_module": "@jupyter-widgets/base",
            "_view_module_version": "1.2.0",
            "_view_name": "LayoutView",
            "align_content": null,
            "align_items": null,
            "align_self": null,
            "border": null,
            "bottom": null,
            "display": null,
            "flex": null,
            "flex_flow": null,
            "grid_area": null,
            "grid_auto_columns": null,
            "grid_auto_flow": null,
            "grid_auto_rows": null,
            "grid_column": null,
            "grid_gap": null,
            "grid_row": null,
            "grid_template_areas": null,
            "grid_template_columns": null,
            "grid_template_rows": null,
            "height": null,
            "justify_content": null,
            "justify_items": null,
            "left": null,
            "margin": null,
            "max_height": null,
            "max_width": null,
            "min_height": null,
            "min_width": null,
            "object_fit": null,
            "object_position": null,
            "order": null,
            "overflow": null,
            "overflow_x": null,
            "overflow_y": null,
            "padding": null,
            "right": null,
            "top": null,
            "visibility": null,
            "width": null
          }
        },
        "766b937d6a2f4a6eb9b2f2bb37f4ade9": {
          "model_module": "@jupyter-widgets/base",
          "model_name": "LayoutModel",
          "model_module_version": "1.2.0",
          "state": {
            "_model_module": "@jupyter-widgets/base",
            "_model_module_version": "1.2.0",
            "_model_name": "LayoutModel",
            "_view_count": null,
            "_view_module": "@jupyter-widgets/base",
            "_view_module_version": "1.2.0",
            "_view_name": "LayoutView",
            "align_content": null,
            "align_items": null,
            "align_self": null,
            "border": null,
            "bottom": null,
            "display": null,
            "flex": null,
            "flex_flow": null,
            "grid_area": null,
            "grid_auto_columns": null,
            "grid_auto_flow": null,
            "grid_auto_rows": null,
            "grid_column": null,
            "grid_gap": null,
            "grid_row": null,
            "grid_template_areas": null,
            "grid_template_columns": null,
            "grid_template_rows": null,
            "height": null,
            "justify_content": null,
            "justify_items": null,
            "left": null,
            "margin": null,
            "max_height": null,
            "max_width": null,
            "min_height": null,
            "min_width": null,
            "object_fit": null,
            "object_position": null,
            "order": null,
            "overflow": null,
            "overflow_x": null,
            "overflow_y": null,
            "padding": null,
            "right": null,
            "top": null,
            "visibility": null,
            "width": null
          }
        },
        "a11dc794bed147599e4d5c6a1a1e6d7a": {
          "model_module": "@jupyter-widgets/controls",
          "model_name": "DescriptionStyleModel",
          "model_module_version": "1.5.0",
          "state": {
            "_model_module": "@jupyter-widgets/controls",
            "_model_module_version": "1.5.0",
            "_model_name": "DescriptionStyleModel",
            "_view_count": null,
            "_view_module": "@jupyter-widgets/base",
            "_view_module_version": "1.2.0",
            "_view_name": "StyleView",
            "description_width": ""
          }
        },
        "03954d8981674f6892cedf8f0a247e8d": {
          "model_module": "@jupyter-widgets/base",
          "model_name": "LayoutModel",
          "model_module_version": "1.2.0",
          "state": {
            "_model_module": "@jupyter-widgets/base",
            "_model_module_version": "1.2.0",
            "_model_name": "LayoutModel",
            "_view_count": null,
            "_view_module": "@jupyter-widgets/base",
            "_view_module_version": "1.2.0",
            "_view_name": "LayoutView",
            "align_content": null,
            "align_items": null,
            "align_self": null,
            "border": null,
            "bottom": null,
            "display": null,
            "flex": null,
            "flex_flow": null,
            "grid_area": null,
            "grid_auto_columns": null,
            "grid_auto_flow": null,
            "grid_auto_rows": null,
            "grid_column": null,
            "grid_gap": null,
            "grid_row": null,
            "grid_template_areas": null,
            "grid_template_columns": null,
            "grid_template_rows": null,
            "height": null,
            "justify_content": null,
            "justify_items": null,
            "left": null,
            "margin": null,
            "max_height": null,
            "max_width": null,
            "min_height": null,
            "min_width": null,
            "object_fit": null,
            "object_position": null,
            "order": null,
            "overflow": null,
            "overflow_x": null,
            "overflow_y": null,
            "padding": null,
            "right": null,
            "top": null,
            "visibility": null,
            "width": null
          }
        },
        "2d46866edc4c4f7780fd775afca026ba": {
          "model_module": "@jupyter-widgets/controls",
          "model_name": "ProgressStyleModel",
          "model_module_version": "1.5.0",
          "state": {
            "_model_module": "@jupyter-widgets/controls",
            "_model_module_version": "1.5.0",
            "_model_name": "ProgressStyleModel",
            "_view_count": null,
            "_view_module": "@jupyter-widgets/base",
            "_view_module_version": "1.2.0",
            "_view_name": "StyleView",
            "bar_color": null,
            "description_width": ""
          }
        },
        "e73c06a70d1a4db681765e6a28ef5bc4": {
          "model_module": "@jupyter-widgets/base",
          "model_name": "LayoutModel",
          "model_module_version": "1.2.0",
          "state": {
            "_model_module": "@jupyter-widgets/base",
            "_model_module_version": "1.2.0",
            "_model_name": "LayoutModel",
            "_view_count": null,
            "_view_module": "@jupyter-widgets/base",
            "_view_module_version": "1.2.0",
            "_view_name": "LayoutView",
            "align_content": null,
            "align_items": null,
            "align_self": null,
            "border": null,
            "bottom": null,
            "display": null,
            "flex": null,
            "flex_flow": null,
            "grid_area": null,
            "grid_auto_columns": null,
            "grid_auto_flow": null,
            "grid_auto_rows": null,
            "grid_column": null,
            "grid_gap": null,
            "grid_row": null,
            "grid_template_areas": null,
            "grid_template_columns": null,
            "grid_template_rows": null,
            "height": null,
            "justify_content": null,
            "justify_items": null,
            "left": null,
            "margin": null,
            "max_height": null,
            "max_width": null,
            "min_height": null,
            "min_width": null,
            "object_fit": null,
            "object_position": null,
            "order": null,
            "overflow": null,
            "overflow_x": null,
            "overflow_y": null,
            "padding": null,
            "right": null,
            "top": null,
            "visibility": null,
            "width": null
          }
        },
        "6dc43da531b2403eb58f0188e8f5a99a": {
          "model_module": "@jupyter-widgets/controls",
          "model_name": "DescriptionStyleModel",
          "model_module_version": "1.5.0",
          "state": {
            "_model_module": "@jupyter-widgets/controls",
            "_model_module_version": "1.5.0",
            "_model_name": "DescriptionStyleModel",
            "_view_count": null,
            "_view_module": "@jupyter-widgets/base",
            "_view_module_version": "1.2.0",
            "_view_name": "StyleView",
            "description_width": ""
          }
        }
      }
    }
  },
  "cells": [
    {
      "cell_type": "markdown",
      "metadata": {
        "id": "MzWJ0hrg7z77"
      },
      "source": [
        "## EE 461P: Data Science Principles  \n",
        "### Assignment 4 \n",
        "### Total points: 85\n",
        "### Due: Thursday, April 7, 2022, submitted via Canvas by 11:59 pm  \n",
        "\n",
        "Your homework should be written in a **Jupyter notebook**. You may work in groups of two if you wish. Only one student per team needs to submit the assignment on Canvas.  But be sure to include name and UT eID for both students.  Homework groups will be created and managed through Canvas, so please do not arbitrarily change your homework group. If you do change, let the TAs know.\n",
        "\n",
        "Also, please make sure your code runs and the graphics (and anything else) are displayed in your notebook before submitting. (%matplotlib inline)\n",
        "\n",
        "### Name(s) and EID(s):\n",
        "1. Harshika Jha hj6963\n",
        "2. Jared McArthur jtm4343\n",
        "\n",
        "### Homework group No.: "
      ]
    },
    {
      "cell_type": "markdown",
      "source": [
        "# Question 1 : Principal Component Analysis [25 points]\n",
        "\n",
        "This questions involves applying Principal Component Analysis to a dataset of handwritten digits for the digit 2. Before starting with the assignment, I would recommend going through the PCA algorithm through this [excellent resource](https://drive.google.com/file/d/1uEJTQa7wgJh6WhhmJwlmBKzyGNSb_swq/view?usp=sharing) [Pages 12-20] if you have any doubts about the process."
      ],
      "metadata": {
        "id": "dhaotzzsjFiB"
      }
    },
    {
      "cell_type": "markdown",
      "source": [
        "## Downloading and pre-processing data\n",
        "\n",
        "The dataset consists of 5958 images of the handwritten digit 2. Each image is of shape 28x28.\n",
        "\n",
        "On running the cells in this section, you will find the numpy array, `data`.\n",
        "\n",
        "`data` is a numpy array of size (5958, 784).\n",
        "\n",
        "Each row in `data` consists of a single image, with all the 28x28 pixel values flattened into a single row of 784 values. \n",
        "\n",
        "\n",
        "You are also provided with code on how to plot an image for visualisation.\n",
        "\n"
      ],
      "metadata": {
        "id": "OBdd21_SqJ9V"
      }
    },
    {
      "cell_type": "code",
      "source": [
        "import os\n",
        "import torch\n",
        "import torchvision\n",
        "import numpy as np\n",
        "from time import time\n",
        "from torch import nn, optim\n",
        "import matplotlib.pyplot as plt\n",
        "from torchvision import datasets, transforms\n",
        "from copy import deepcopy"
      ],
      "metadata": {
        "id": "a60batGpp_vd"
      },
      "execution_count": null,
      "outputs": []
    },
    {
      "cell_type": "code",
      "source": [
        "# Downloading MNIST dataset and storing as torch.utils.data.Dataset\n",
        "transform = transforms.Compose([transforms.ToTensor()\n",
        "                              ])\n",
        "\n",
        "tensor = datasets.MNIST('/content/data/train', download=True, train=True, transform=transform)\n",
        "data = np.reshape(tensor.data.numpy(), (60000, 784))\n",
        "targets = tensor.targets.numpy()\n",
        "\n",
        "data = data[targets == 2]"
      ],
      "metadata": {
        "id": "pc6KIQY-qE_B",
        "colab": {
          "base_uri": "https://localhost:8080/",
          "height": 443,
          "referenced_widgets": [
            "9df2f11aeb2c4c11a77fc6497c613f7a",
            "a8a394169f6146c2a58c7e0fd2c8df3d",
            "34e5b9ffab2c4d20b8b5609daab069c2",
            "53b14808cbe346faad8098ef30a21782",
            "92cdae951d9644e2bcd7c1ae842b7713",
            "f650b886852e4162a73fcdc63b11dcd3",
            "2f18497f463b4cf0a4048bb40b2d6566",
            "7578ffb92a494365bb75f694bd25c254",
            "51d85b36c3f545f99a7433979582bf02",
            "c71b4dad15b7488ab682134bdd7cd53a",
            "6aebaf3633c7415c9948ba0c43c2360d",
            "091ef9b6b67343798f748cc8f5814228",
            "7450150033974d63839f9ffeaf39da7d",
            "5e26990b223640d4982b0b5db12d76e9",
            "831636b2d07b46eca98809f72058e519",
            "9356e2d99a9b49158b36674a5c0ba502",
            "fae4ba0c18ea4e50aeb77f8f20db1db6",
            "c5b49b64cdd644a78d0cf55de3560461",
            "8839ccdbf35f42f19945a78b10a7347d",
            "123f81e94ea44a71820f58f989f9e7a3",
            "8faa71bf5c5e4967bcae7b4d3e28f04c",
            "04132f55dd4e412988651f83064213b1",
            "e8adba57ba314333b83e2d827a41960d",
            "6e036eeb9d2b41879097e16eddcd1700",
            "6e87a8ad47764a00aae55983a59d9555",
            "28df2bba308a4bdb847149eee963cc64",
            "7951292f190c4c0a833670fd15d3c5f0",
            "655978ca8aa2480da90c998f8030256b",
            "01e2f3f435db40468f2354e67624c579",
            "7af641422a9d4927a52243388513ed2d",
            "b7820df412454e63a22747f903863c97",
            "6c436498332745a485abdf6fb8b3925a",
            "db1f167ef0b043aeb82cd01d452fbb8f",
            "e52bf5fa58d449a18922137a9748c49d",
            "ab35ae469934483596f32d2555c9acc5",
            "d4a35747a40448aeb399de92820d5412",
            "5d788ac2324948c0becaaa5d953a7e00",
            "d529c11f429d43c494ff600b935f7873",
            "766b937d6a2f4a6eb9b2f2bb37f4ade9",
            "a11dc794bed147599e4d5c6a1a1e6d7a",
            "03954d8981674f6892cedf8f0a247e8d",
            "2d46866edc4c4f7780fd775afca026ba",
            "e73c06a70d1a4db681765e6a28ef5bc4",
            "6dc43da531b2403eb58f0188e8f5a99a"
          ]
        },
        "outputId": "0d60bc0a-57de-45af-add0-7af4f59ed6f3"
      },
      "execution_count": null,
      "outputs": [
        {
          "output_type": "stream",
          "name": "stdout",
          "text": [
            "Downloading http://yann.lecun.com/exdb/mnist/train-images-idx3-ubyte.gz\n",
            "Downloading http://yann.lecun.com/exdb/mnist/train-images-idx3-ubyte.gz to /content/data/train/MNIST/raw/train-images-idx3-ubyte.gz\n"
          ]
        },
        {
          "output_type": "display_data",
          "data": {
            "text/plain": [
              "  0%|          | 0/9912422 [00:00<?, ?it/s]"
            ],
            "application/vnd.jupyter.widget-view+json": {
              "version_major": 2,
              "version_minor": 0,
              "model_id": "9df2f11aeb2c4c11a77fc6497c613f7a"
            }
          },
          "metadata": {}
        },
        {
          "output_type": "stream",
          "name": "stdout",
          "text": [
            "Extracting /content/data/train/MNIST/raw/train-images-idx3-ubyte.gz to /content/data/train/MNIST/raw\n",
            "\n",
            "Downloading http://yann.lecun.com/exdb/mnist/train-labels-idx1-ubyte.gz\n",
            "Downloading http://yann.lecun.com/exdb/mnist/train-labels-idx1-ubyte.gz to /content/data/train/MNIST/raw/train-labels-idx1-ubyte.gz\n"
          ]
        },
        {
          "output_type": "display_data",
          "data": {
            "text/plain": [
              "  0%|          | 0/28881 [00:00<?, ?it/s]"
            ],
            "application/vnd.jupyter.widget-view+json": {
              "version_major": 2,
              "version_minor": 0,
              "model_id": "091ef9b6b67343798f748cc8f5814228"
            }
          },
          "metadata": {}
        },
        {
          "output_type": "stream",
          "name": "stdout",
          "text": [
            "Extracting /content/data/train/MNIST/raw/train-labels-idx1-ubyte.gz to /content/data/train/MNIST/raw\n",
            "\n",
            "Downloading http://yann.lecun.com/exdb/mnist/t10k-images-idx3-ubyte.gz\n",
            "Downloading http://yann.lecun.com/exdb/mnist/t10k-images-idx3-ubyte.gz to /content/data/train/MNIST/raw/t10k-images-idx3-ubyte.gz\n"
          ]
        },
        {
          "output_type": "display_data",
          "data": {
            "text/plain": [
              "  0%|          | 0/1648877 [00:00<?, ?it/s]"
            ],
            "application/vnd.jupyter.widget-view+json": {
              "version_major": 2,
              "version_minor": 0,
              "model_id": "e8adba57ba314333b83e2d827a41960d"
            }
          },
          "metadata": {}
        },
        {
          "output_type": "stream",
          "name": "stdout",
          "text": [
            "Extracting /content/data/train/MNIST/raw/t10k-images-idx3-ubyte.gz to /content/data/train/MNIST/raw\n",
            "\n",
            "Downloading http://yann.lecun.com/exdb/mnist/t10k-labels-idx1-ubyte.gz\n",
            "Downloading http://yann.lecun.com/exdb/mnist/t10k-labels-idx1-ubyte.gz to /content/data/train/MNIST/raw/t10k-labels-idx1-ubyte.gz\n"
          ]
        },
        {
          "output_type": "display_data",
          "data": {
            "text/plain": [
              "  0%|          | 0/4542 [00:00<?, ?it/s]"
            ],
            "application/vnd.jupyter.widget-view+json": {
              "version_major": 2,
              "version_minor": 0,
              "model_id": "e52bf5fa58d449a18922137a9748c49d"
            }
          },
          "metadata": {}
        },
        {
          "output_type": "stream",
          "name": "stdout",
          "text": [
            "Extracting /content/data/train/MNIST/raw/t10k-labels-idx1-ubyte.gz to /content/data/train/MNIST/raw\n",
            "\n"
          ]
        }
      ]
    },
    {
      "cell_type": "code",
      "source": [
        "# Sanity checking dataset\n",
        "print(\"Number of samples\", len(data))\n",
        "print(\"Training sample image dimension\",data[0].shape)\n",
        "print(\"Training sample image label\",targets[0])\n",
        "plt.title(\"Sample Image\")\n",
        "plt.imshow(np.reshape(data[0], (28,28)))"
      ],
      "metadata": {
        "colab": {
          "base_uri": "https://localhost:8080/",
          "height": 350
        },
        "id": "0V9HBtx_qJAl",
        "outputId": "b1964dcd-3b46-4b78-8e62-5f4976df16f1"
      },
      "execution_count": null,
      "outputs": [
        {
          "output_type": "stream",
          "name": "stdout",
          "text": [
            "Number of samples 5958\n",
            "Training sample image dimension (784,)\n",
            "Training sample image label 5\n"
          ]
        },
        {
          "output_type": "execute_result",
          "data": {
            "text/plain": [
              "<matplotlib.image.AxesImage at 0x7fe1d2ed1690>"
            ]
          },
          "metadata": {},
          "execution_count": 4
        },
        {
          "output_type": "display_data",
          "data": {
            "text/plain": [
              "<Figure size 432x288 with 1 Axes>"
            ],
            "image/png": "[encoded data removed]"
          },
          "metadata": {
            "needs_background": "light"
          }
        }
      ]
    },
    {
      "cell_type": "markdown",
      "source": [
        "## Analysis"
      ],
      "metadata": {
        "id": "ZPCD-n7hMbN4"
      }
    },
    {
      "cell_type": "markdown",
      "source": [
        "a) [5 points] Compute the mean $ (\\mu) $ of all the data-points. You will be computing the mean along the rows. The mean will be of shape (784,)\n",
        "\n",
        "[Hint : Use [np.mean](https://numpy.org/doc/stable/reference/generated/numpy.mean.html) to compute mean along axis = 0)"
      ],
      "metadata": {
        "id": "dW5qcE_yNVJJ"
      }
    },
    {
      "cell_type": "code",
      "source": [
        "mean = np.mean(data, axis = 0)\n",
        "mean"
      ],
      "metadata": {
        "colab": {
          "base_uri": "https://localhost:8080/"
        },
        "id": "hpzXkl2irjEP",
        "outputId": "6e1cbf3c-de5a-4e9e-fa60-b6b88cb8a445"
      },
      "execution_count": null,
      "outputs": [
        {
          "output_type": "execute_result",
          "data": {
            "text/plain": [
              "array([ 0.00000000e+00,  0.00000000e+00,  0.00000000e+00,  0.00000000e+00,\n",
              "        0.00000000e+00,  0.00000000e+00,  0.00000000e+00,  0.00000000e+00,\n",
              "        0.00000000e+00,  0.00000000e+00,  0.00000000e+00,  0.00000000e+00,\n",
              "        4.23747990e-17,  8.29783633e-16,  8.29783633e-16,  3.70487059e-17,\n",
              "        0.00000000e+00,  0.00000000e+00,  0.00000000e+00,  0.00000000e+00,\n",
              "        0.00000000e+00,  0.00000000e+00,  0.00000000e+00,  0.00000000e+00,\n",
              "        0.00000000e+00,  0.00000000e+00,  0.00000000e+00,  0.00000000e+00,\n",
              "        0.00000000e+00,  0.00000000e+00,  0.00000000e+00,  0.00000000e+00,\n",
              "        0.00000000e+00,  0.00000000e+00,  0.00000000e+00,  6.50797904e-17,\n",
              "       -1.22374230e-15,  1.29420969e-15,  1.59686799e-15,  5.77095158e-16,\n",
              "        9.53775308e-16, -1.50907316e-15, -3.07258601e-15,  1.80498822e-15,\n",
              "        5.99654599e-15, -4.93592709e-15,  2.96389647e-16,  0.00000000e+00,\n",
              "        0.00000000e+00,  0.00000000e+00,  0.00000000e+00,  0.00000000e+00,\n",
              "        0.00000000e+00,  0.00000000e+00,  0.00000000e+00,  0.00000000e+00,\n",
              "        0.00000000e+00,  0.00000000e+00,  0.00000000e+00,  0.00000000e+00,\n",
              "        0.00000000e+00,  1.94681802e-16, -4.49618896e-16, -3.86069901e-15,\n",
              "        2.63554051e-15,  5.82488815e-15, -1.01476397e-14, -1.19565690e-14,\n",
              "        1.50127197e-14, -2.32364946e-14,  5.83860288e-15, -1.97292483e-14,\n",
              "       -2.32955276e-14,  2.02668064e-14, -1.83609794e-14,  1.39922015e-15,\n",
              "       -2.58944893e-15,  8.63187687e-16,  4.34432058e-17, -3.48056223e-15,\n",
              "        1.38377477e-15,  6.99385302e-16,  0.00000000e+00,  0.00000000e+00,\n",
              "        0.00000000e+00,  0.00000000e+00,  4.74242914e-17,  5.97866710e-17,\n",
              "        2.81050243e-16, -2.32539362e-15,  5.37409064e-15,  6.61169676e-15,\n",
              "        1.62832710e-14, -1.29061656e-14, -4.38036836e-15, -1.81189590e-14,\n",
              "        2.44003095e-15,  1.23575761e-14, -1.75238586e-14, -1.06239138e-13,\n",
              "        9.36645115e-14,  1.35150404e-13, -2.19310602e-14, -5.40593269e-14,\n",
              "        1.15185918e-14,  1.14368997e-15,  1.92483380e-15, -2.26989178e-15,\n",
              "        1.06629999e-15,  6.96711300e-16,  0.00000000e+00,  0.00000000e+00,\n",
              "        0.00000000e+00,  0.00000000e+00,  2.15149967e-16,  6.04083239e-16,\n",
              "        3.16120074e-15,  3.38455905e-15,  1.09762634e-14,  9.38088144e-15,\n",
              "        3.97608171e-14, -3.83654915e-14, -1.82465657e-15, -1.32472452e-14,\n",
              "       -4.33862785e-14, -2.47914777e-14,  2.13668477e-13,  3.00512589e-13,\n",
              "        2.49042963e-13, -4.31947492e-13, -2.00068227e-14, -1.01589245e-13,\n",
              "       -2.37181503e-14, -3.73994968e-15,  8.58661916e-16, -8.93485427e-15,\n",
              "        9.35362432e-16,  7.46314260e-16,  0.00000000e+00,  0.00000000e+00,\n",
              "        0.00000000e+00,  0.00000000e+00,  4.59573029e-16, -2.75069494e-15,\n",
              "       -9.50889809e-15, -2.91160926e-14, -1.09163359e-14, -4.97666136e-15,\n",
              "       -1.05066826e-14, -6.97615104e-14,  3.31872831e-14, -6.92892463e-14,\n",
              "        1.91109521e-13,  3.10549393e-14, -2.08025160e-13,  1.42728692e-13,\n",
              "       -1.42299361e-13,  1.32868391e-13, -3.23333915e-13, -1.02963104e-13,\n",
              "        6.46667830e-14, -7.47512902e-14, -7.96647445e-15, -1.21166737e-15,\n",
              "       -4.08918638e-15, -1.79653064e-15,  0.00000000e+00,  0.00000000e+00,\n",
              "        0.00000000e+00,  0.00000000e+00,  2.99255813e-16, -2.87922869e-15,\n",
              "       -1.13217406e-14,  2.20896741e-14,  2.47032263e-14,  1.15132252e-14,\n",
              "       -1.24632392e-13, -1.23566220e-13, -6.44568879e-14,  6.80251051e-14,\n",
              "        1.28188683e-13,  3.80339525e-14, -1.34332886e-14, -5.09854365e-14,\n",
              "        8.11530918e-14, -1.39751997e-13, -9.09394525e-14,  1.50781033e-13,\n",
              "        3.29368400e-14,  7.62217487e-14, -2.18577161e-14, -1.10099539e-14,\n",
              "       -7.23162718e-15,  2.96135174e-16,  2.91357260e-16,  0.00000000e+00,\n",
              "        0.00000000e+00,  0.00000000e+00,  1.09546011e-15,  3.09962417e-15,\n",
              "       -3.87903502e-15, -3.23131175e-14, -1.05199203e-13,  5.94766487e-14,\n",
              "       -1.12532414e-14, -3.91025096e-14, -1.13882422e-13, -5.20969266e-14,\n",
              "       -1.31041349e-14,  3.76690212e-14, -9.12232879e-14, -2.36651994e-13,\n",
              "       -1.74861729e-13, -2.32268048e-13,  2.76584544e-14, -5.61755707e-14,\n",
              "        7.27477457e-16,  1.16014766e-14, -1.47976070e-14, -1.95345586e-14,\n",
              "        7.39462014e-15,  7.22662857e-16,  1.96045881e-16,  0.00000000e+00,\n",
              "        0.00000000e+00,  2.86761612e-16,  9.91616621e-16,  6.38301839e-15,\n",
              "        1.08024439e-14,  3.29553251e-14,  3.52468791e-14,  1.70940506e-13,\n",
              "        1.78632686e-13, -1.26833906e-13, -2.68808883e-14, -1.15103630e-13,\n",
              "       -2.91181797e-14,  4.13087937e-14, -2.28964585e-13,  9.09537635e-14,\n",
              "       -3.45010358e-13, -2.52332115e-13,  5.97867211e-14, -1.04294030e-13,\n",
              "       -1.46921824e-13,  2.32108242e-13,  3.94364337e-14,  7.48705488e-15,\n",
              "        2.40513849e-15,  3.97868350e-16,  0.00000000e+00,  0.00000000e+00,\n",
              "        0.00000000e+00,  0.00000000e+00,  1.01235644e-15, -6.27890936e-15,\n",
              "       -1.26147274e-14, -1.74767515e-14,  1.22160161e-13,  1.27434969e-13,\n",
              "        6.12035133e-14,  2.63108322e-14, -5.31225506e-14,  2.25351050e-14,\n",
              "       -7.58508544e-14,  7.71149956e-14,  5.24976355e-14,  2.39280454e-14,\n",
              "        3.61458504e-13, -1.82198518e-13, -1.03802685e-14, -1.15885966e-13,\n",
              "        7.38449248e-15, -1.11349369e-13, -2.35941213e-14,  1.67445037e-14,\n",
              "        2.27323661e-15,  3.27762578e-16,  3.01465125e-16,  0.00000000e+00,\n",
              "        0.00000000e+00,  0.00000000e+00,  5.39200272e-16,  1.80887717e-14,\n",
              "        3.80949235e-15, -1.57012891e-14,  8.03153001e-14, -9.51826734e-14,\n",
              "       -1.14824565e-13,  4.35997514e-14, -7.10888586e-14, -2.85850937e-14,\n",
              "       -1.02263056e-13, -1.33049664e-13, -3.53148565e-14, -5.68553447e-14,\n",
              "        1.60545927e-13,  3.18301202e-13, -8.24220033e-14, -5.44057731e-14,\n",
              "       -2.43526060e-15,  3.26768563e-14,  2.10515280e-14,  1.46217006e-14,\n",
              "        3.31930224e-16, -3.49232504e-15,  1.40465201e-15,  0.00000000e+00,\n",
              "        0.00000000e+00,  0.00000000e+00,  0.00000000e+00,  3.15815406e-15,\n",
              "       -3.76767730e-15,  1.36685262e-14, -6.86333240e-16,  2.83924911e-14,\n",
              "        1.49961726e-14, -4.29539661e-14,  4.78954461e-14, -9.93740169e-14,\n",
              "       -9.02566970e-14, -3.38599016e-14, -1.41824712e-13,  8.55322676e-15,\n",
              "       -4.49748030e-14, -2.68241212e-13, -1.05853933e-13,  5.20158308e-14,\n",
              "       -7.31770766e-14, -5.37713173e-14,  3.35062998e-14,  1.46126071e-14,\n",
              "        3.21983311e-15,  3.12977424e-15,  6.93861439e-16,  0.00000000e+00,\n",
              "        0.00000000e+00,  0.00000000e+00,  0.00000000e+00, -1.42592290e-15,\n",
              "        4.95064807e-15,  8.78965693e-15, -2.55595030e-14,  1.58891214e-14,\n",
              "       -1.96490469e-14,  1.30009762e-14,  1.92692082e-14,  1.27827330e-14,\n",
              "       -1.97146391e-14,  2.51862236e-14,  3.83702618e-14, -2.39323387e-13,\n",
              "        3.85109869e-14,  2.99482195e-14, -1.58566234e-14,  8.17732365e-14,\n",
              "       -5.70914767e-14,  1.06332160e-13, -2.72082532e-14, -9.73850816e-15,\n",
              "       -2.79333455e-15, -7.90941666e-15,  2.30984341e-15,  3.22194460e-16,\n",
              "        0.00000000e+00,  0.00000000e+00,  1.72580237e-16, -4.27755906e-15,\n",
              "       -1.45745189e-15,  5.42529730e-15, -2.12232604e-14,  5.02824070e-15,\n",
              "       -2.07134299e-14, -3.07186301e-14,  2.95487032e-14,  8.17076443e-14,\n",
              "       -6.55182894e-14,  7.15384635e-14,  3.03203063e-14, -1.40271965e-13,\n",
              "       -2.37963839e-13, -1.15327836e-13,  4.47410562e-14, -1.21166737e-15,\n",
              "       -2.10248141e-13,  7.65407654e-14, -2.80776484e-14, -2.33299635e-15,\n",
              "       -2.10670316e-15,  5.52323843e-15,  1.22263730e-14,  1.96567987e-15,\n",
              "        0.00000000e+00,  0.00000000e+00,  0.00000000e+00, -2.16759027e-15,\n",
              "       -1.62560652e-15,  3.60067054e-14,  1.71374607e-14,  5.98761650e-14,\n",
              "        1.16718391e-14,  4.74744633e-14,  2.34009224e-14,  3.15558254e-14,\n",
              "       -1.19754715e-13, -7.47942233e-14,  3.01099342e-13, -1.77409093e-13,\n",
              "        7.82336413e-15, -7.10017998e-14,  4.20744339e-14, -1.03254095e-13,\n",
              "       -9.38326661e-15,  6.26250758e-14, -2.35255476e-14, -1.59869134e-14,\n",
              "        1.11661827e-14,  2.66082334e-14,  1.03589510e-14,  4.60572286e-16,\n",
              "        0.00000000e+00,  0.00000000e+00,  3.98575283e-16, -3.11905960e-15,\n",
              "       -2.70254894e-15, -2.28451773e-14, -4.21626853e-14,  8.04768955e-14,\n",
              "       -6.55814964e-14,  6.94466677e-14, -1.34332886e-13, -1.95560251e-14,\n",
              "       -4.06814935e-14, -2.18930167e-13,  2.36227434e-13, -3.29058328e-14,\n",
              "       -2.59029678e-14,  5.87706378e-14,  1.98680056e-13, -8.51983435e-14,\n",
              "        1.50781033e-13, -4.60588637e-14,  8.63134114e-15, -1.93503041e-14,\n",
              "        1.26026525e-14,  3.34401113e-15,  9.59435433e-15,  1.91712391e-15,\n",
              "        0.00000000e+00,  0.00000000e+00,  2.18336874e-15,  2.55138866e-16,\n",
              "        1.70356437e-14, -7.70523848e-14, -4.76450031e-14, -2.87651742e-14,\n",
              "       -1.86329636e-13, -1.48548512e-14,  9.54450423e-14, -6.54729711e-14,\n",
              "       -3.78097464e-14,  6.96756442e-14, -1.54559145e-13, -5.77593249e-14,\n",
              "       -1.77237360e-13, -1.16921131e-14,  3.55700699e-14, -8.14965565e-14,\n",
              "       -1.89733276e-13, -5.52715905e-14,  2.84992275e-14,  2.65314606e-14,\n",
              "        6.21534080e-14, -5.45637907e-15,  3.92189358e-15, -4.02017944e-16,\n",
              "        0.00000000e+00,  0.00000000e+00,  3.36990329e-15, -1.19912286e-14,\n",
              "        5.57062881e-14, -1.11208644e-13,  1.55207912e-13, -1.18428560e-13,\n",
              "        1.57170908e-13,  1.88953325e-14,  1.08267727e-13, -1.85852601e-14,\n",
              "        4.65203945e-14, -2.39032396e-13, -2.27450001e-13, -1.66141540e-13,\n",
              "       -3.55829498e-13, -6.64079585e-14,  1.27351488e-13, -7.22206227e-14,\n",
              "       -1.08193787e-13,  5.01649373e-14, -7.42480189e-14,  3.02344401e-14,\n",
              "        4.86575086e-14, -3.30185321e-14,  8.87038009e-15,  1.19243226e-15,\n",
              "        0.00000000e+00,  0.00000000e+00, -2.67705741e-15, -4.40720154e-15,\n",
              "        6.94800601e-15, -1.31251244e-13,  5.09377330e-14,  6.64985951e-14,\n",
              "        9.67807387e-14,  1.07285036e-14,  1.50418486e-13,  9.22393712e-14,\n",
              "       -1.46850269e-13, -2.42791427e-13,  2.43478357e-14,  1.09255188e-13,\n",
              "        1.28851761e-13, -2.06651301e-14,  7.98841803e-14,  4.98500946e-15,\n",
              "       -2.41713329e-14,  3.02964546e-14, -4.76772029e-14, -1.46950446e-14,\n",
              "       -9.02072047e-14, -1.37105649e-14,  1.15966317e-14,  1.38018070e-15,\n",
              "        0.00000000e+00,  0.00000000e+00, -4.58864232e-15, -3.30048174e-15,\n",
              "       -3.42987732e-14,  2.10124112e-13,  1.74852188e-13,  1.57755275e-14,\n",
              "        1.18495344e-14,  4.94780078e-14, -6.32356798e-14, -4.14065857e-15,\n",
              "       -1.11478168e-13,  3.46522557e-13,  3.30613460e-13,  1.19105948e-13,\n",
              "        1.35077060e-13, -1.25975244e-13, -4.21793815e-14, -5.16246625e-14,\n",
              "       -9.50872665e-14, -3.89164662e-14, -7.01669896e-14,  8.01060013e-14,\n",
              "       -5.72930238e-14,  6.24420138e-14, -2.00259040e-14,  5.90863470e-16,\n",
              "        0.00000000e+00,  4.90114702e-17,  1.55623155e-15, -6.18630133e-14,\n",
              "       -1.27692568e-13,  6.55540670e-14,  1.71577347e-13, -1.49688624e-13,\n",
              "        8.01990230e-14,  1.20785110e-13, -6.54014160e-14,  9.07080908e-14,\n",
              "       -2.58590806e-13,  1.02047198e-13,  6.73572570e-14, -5.68577299e-14,\n",
              "        1.69299508e-14,  1.45304678e-14,  1.40400764e-13, -2.55165699e-14,\n",
              "        3.66362418e-15,  1.39489628e-13,  8.90694776e-14, -4.60051973e-14,\n",
              "        8.37052258e-14, -1.89337934e-14, -1.20471310e-14,  0.00000000e+00,\n",
              "        0.00000000e+00, -8.70882429e-16, -1.17159648e-14, -1.29522293e-14,\n",
              "        3.43941801e-14,  3.79910195e-14,  2.74018099e-13, -1.21529283e-13,\n",
              "       -2.08855200e-13,  1.45476410e-13, -4.16260216e-14,  2.28117849e-14,\n",
              "        9.40043985e-14, -1.54978935e-13, -1.99495785e-13, -1.50265835e-13,\n",
              "        4.94684671e-15,  1.69056220e-13,  7.01288268e-14,  9.37706516e-14,\n",
              "       -1.06722136e-13, -3.15391292e-14,  1.06784150e-14, -2.18636790e-14,\n",
              "        5.57122510e-14,  5.57606999e-14, -5.84969021e-15,  0.00000000e+00,\n",
              "        0.00000000e+00,  0.00000000e+00, -5.93317123e-15,  2.65278083e-14,\n",
              "        5.51714133e-14,  4.64148506e-14, -1.59508377e-13,  1.36823006e-13,\n",
              "        5.53073681e-14, -1.40834865e-13, -1.86186526e-14, -5.80073828e-14,\n",
              "       -1.13128707e-13,  8.10052111e-14,  1.35828389e-13,  1.39224874e-13,\n",
              "        1.30185072e-13, -1.83360097e-13, -1.17157263e-13,  3.35116665e-15,\n",
              "       -1.58921625e-13, -1.53676631e-14,  5.58738464e-14,  1.01952388e-13,\n",
              "        1.21569235e-14,  7.08478071e-15,  2.74667462e-16,  0.00000000e+00,\n",
              "        0.00000000e+00,  0.00000000e+00,  4.58774090e-16,  3.71211025e-15,\n",
              "       -1.71802448e-14,  2.08225515e-15, -3.65730347e-14,  1.77695313e-15,\n",
              "        5.06133496e-14, -1.26986557e-14,  4.02139997e-14,  5.50497695e-15,\n",
              "       -4.63271956e-14,  1.76637489e-13,  1.40745421e-13,  2.61414850e-14,\n",
              "       -9.61701346e-15, -1.03516464e-14,  1.35108067e-14, -2.66900746e-14,\n",
              "        8.59604059e-14, -5.06425680e-14,  1.13319521e-14, -6.18296209e-15,\n",
              "        9.44774079e-15, -1.21992230e-15,  3.65544495e-16,  0.00000000e+00,\n",
              "        0.00000000e+00,  0.00000000e+00,  0.00000000e+00,  3.50661627e-16,\n",
              "        1.30138152e-15, -5.01363152e-15, -2.57443539e-14, -5.79179388e-15,\n",
              "       -1.85809370e-14,  1.70241651e-15, -2.49354824e-15, -2.81480109e-15,\n",
              "       -5.02197962e-15,  2.87949888e-14,  1.88237773e-14,  1.26986557e-14,\n",
              "       -9.30679203e-15, -1.35038003e-14,  1.12581609e-14, -1.18408882e-15,\n",
              "       -1.27238491e-14,  1.08461224e-14,  2.57292975e-15,  6.55065126e-16,\n",
              "        2.47075867e-15,  2.57673577e-15,  3.58149646e-16,  0.00000000e+00,\n",
              "        0.00000000e+00,  0.00000000e+00,  0.00000000e+00,  0.00000000e+00,\n",
              "        0.00000000e+00,  0.00000000e+00,  9.60728177e-16,  1.33462019e-15,\n",
              "        1.33462019e-15,  1.40410230e-15,  2.67988515e-15, -3.98068434e-15,\n",
              "        9.08228772e-17, -6.59975226e-15, -1.45903579e-15,  1.86336158e-14,\n",
              "       -2.06196255e-15, -2.44243475e-15, -3.51067502e-15, -5.32750525e-17,\n",
              "        3.84787871e-15, -1.13062743e-16,  1.45335471e-15,  1.79074823e-16,\n",
              "        7.94186280e-17,  3.74565755e-16,  3.92091762e-16,  0.00000000e+00,\n",
              "        0.00000000e+00,  0.00000000e+00,  0.00000000e+00,  0.00000000e+00,\n",
              "        0.00000000e+00,  0.00000000e+00,  0.00000000e+00,  0.00000000e+00,\n",
              "        0.00000000e+00,  0.00000000e+00,  0.00000000e+00,  0.00000000e+00,\n",
              "        0.00000000e+00,  0.00000000e+00,  0.00000000e+00,  0.00000000e+00,\n",
              "        0.00000000e+00,  0.00000000e+00,  0.00000000e+00,  0.00000000e+00,\n",
              "        0.00000000e+00,  0.00000000e+00,  0.00000000e+00,  0.00000000e+00,\n",
              "        0.00000000e+00,  0.00000000e+00,  0.00000000e+00,  0.00000000e+00,\n",
              "        0.00000000e+00,  0.00000000e+00,  0.00000000e+00,  0.00000000e+00,\n",
              "        0.00000000e+00,  0.00000000e+00,  0.00000000e+00,  0.00000000e+00,\n",
              "        0.00000000e+00,  0.00000000e+00,  0.00000000e+00,  0.00000000e+00,\n",
              "        0.00000000e+00,  0.00000000e+00,  0.00000000e+00,  0.00000000e+00,\n",
              "        0.00000000e+00,  0.00000000e+00,  0.00000000e+00,  0.00000000e+00,\n",
              "        0.00000000e+00,  0.00000000e+00,  0.00000000e+00,  0.00000000e+00,\n",
              "        0.00000000e+00,  0.00000000e+00,  0.00000000e+00,  0.00000000e+00])"
            ]
          },
          "metadata": {},
          "execution_count": 10
        }
      ]
    },
    {
      "cell_type": "markdown",
      "source": [
        "b) [5 points] Compute the covariance matrix ($C$) of all the datapoints. Firstly, subtract the mean that you have computed from the previous part from each of the rows, so that the data now has zero mean. The covariance matrix for the digit 2 is of shape (784, 784).\n",
        "\n",
        "[Hint : Use [np.cov](https://numpy.org/doc/stable/reference/generated/numpy.cov.html) to compute the covariance matrix. Use [np.transpose](https://numpy.org/doc/stable/reference/generated/numpy.transpose.html) so that observations are considered along the columns, as required by `np.cov`].\n"
      ],
      "metadata": {
        "id": "U03o-4RqRJSe"
      }
    },
    {
      "cell_type": "code",
      "source": [
        "data = mean - data\n",
        "covMatrix = np.cov(data,bias=True)\n",
        "covMatrix"
      ],
      "metadata": {
        "colab": {
          "base_uri": "https://localhost:8080/"
        },
        "id": "hnTNOkxFsDlC",
        "outputId": "e3a8a41b-afd1-4ed6-81d4-a24f97b23601"
      },
      "execution_count": null,
      "outputs": [
        {
          "output_type": "execute_result",
          "data": {
            "text/plain": [
              "array([[ 3749.39974006,   121.44627507,  -286.23556295, ...,\n",
              "          929.03193896,   683.18769185,   185.93233799],\n",
              "       [  121.44627507,  3317.89133544,  -414.57783729, ...,\n",
              "          249.80187047,  -186.39346407,    32.94492881],\n",
              "       [ -286.23556295,  -414.57783729,  4432.25275441, ...,\n",
              "        -1320.71269349, -1317.86398064, -1358.46910413],\n",
              "       ...,\n",
              "       [  929.03193896,   249.80187047, -1320.71269349, ...,\n",
              "         4747.05444398,  2871.22377195,  1350.80469724],\n",
              "       [  683.18769185,  -186.39346407, -1317.86398064, ...,\n",
              "         2871.22377195,  4971.26362098,  2525.78346658],\n",
              "       [  185.93233799,    32.94492881, -1358.46910413, ...,\n",
              "         1350.80469724,  2525.78346658,  4017.65214958]])"
            ]
          },
          "metadata": {},
          "execution_count": 11
        }
      ]
    },
    {
      "cell_type": "markdown",
      "source": [
        "c) [5 points] Now, we compute the eigenvalues ($\\lambda$) of the covariance matrix ($C$), sort them in descending order of magnitude, and plot the top 70 eigenvalues. What does this plot indicate to you?\n",
        "\n",
        "[Hint : Use [np.linalg.eig](https://numpy.org/doc/stable/reference/generated/numpy.linalg.eig.html) to compute the eigenvalues and corresponding eigenvectors of a matrix. It returns the eigenvalues already sorted in descending order. Note that the eigenvectors are arranged along the columns.Use [np.real](https://numpy.org/doc/stable/reference/generated/numpy.real.html) to get the real part of the eigenvalues and eigenvectors.]"
      ],
      "metadata": {
        "id": "gVDEDukHVzDu"
      }
    },
    {
      "cell_type": "code",
      "source": [
        "import numpy as np\n",
        "import matplotlib.pyplot as plt\n",
        "import scipy.linalg as la"
      ],
      "metadata": {
        "id": "a-rhvQs5unMr"
      },
      "execution_count": null,
      "outputs": []
    },
    {
      "cell_type": "code",
      "source": [
        "results = la.eig(covMatrix)\n",
        "results"
      ],
      "metadata": {
        "id": "14ZkanqWuoHL",
        "colab": {
          "base_uri": "https://localhost:8080/"
        },
        "outputId": "12c5851d-382f-4594-cb45-6dcee845d9fd"
      },
      "execution_count": null,
      "outputs": [
        {
          "output_type": "execute_result",
          "data": {
            "text/plain": [
              "(array([2.97929087e+06+0.j, 1.93914265e+06+0.j, 1.31535902e+06+0.j, ...,\n",
              "        1.60299997e-12+0.j, 3.01758688e-12+0.j, 2.19943116e-12+0.j]),\n",
              " array([[ 1.37629423e-02+0.j, -1.01005297e-02+0.j, -4.45989957e-03+0.j,\n",
              "         ..., -6.36269145e-03+0.j, -1.02469542e-03+0.j,\n",
              "          3.04743974e-03+0.j],\n",
              "        [ 3.67448581e-03+0.j,  1.68684621e-03+0.j, -1.06735691e-04+0.j,\n",
              "         ..., -5.76292645e-04+0.j, -2.67826426e-05+0.j,\n",
              "          1.14205977e-04+0.j],\n",
              "        [-8.84659025e-03+0.j,  1.93315229e-02+0.j,  1.02622604e-02+0.j,\n",
              "         ..., -2.91054207e-04+0.j, -3.63355990e-04+0.j,\n",
              "          1.10267249e-04+0.j],\n",
              "        ...,\n",
              "        [ 1.82203516e-02+0.j, -1.25379998e-02+0.j, -8.23122148e-03+0.j,\n",
              "         ...,  7.18731272e-03+0.j,  4.49584158e-03+0.j,\n",
              "         -7.39514816e-04+0.j],\n",
              "        [ 2.71797398e-02+0.j, -5.98742823e-03+0.j, -5.11434404e-03+0.j,\n",
              "         ..., -8.49038421e-04+0.j,  2.32652374e-03+0.j,\n",
              "         -8.12376611e-03+0.j],\n",
              "        [ 1.87854967e-02+0.j, -4.00161755e-03+0.j, -1.47584904e-02+0.j,\n",
              "         ..., -1.12565643e-03+0.j, -2.31054123e-02+0.j,\n",
              "          1.23990748e-02+0.j]]))"
            ]
          },
          "metadata": {},
          "execution_count": 13
        }
      ]
    },
    {
      "cell_type": "code",
      "source": [
        "real = np.real(covMatrix)\n",
        "real"
      ],
      "metadata": {
        "id": "Wd0UY5hTuz_d",
        "colab": {
          "base_uri": "https://localhost:8080/"
        },
        "outputId": "063f3261-7a77-4266-9bbb-ad98f84f9dc1"
      },
      "execution_count": null,
      "outputs": [
        {
          "output_type": "execute_result",
          "data": {
            "text/plain": [
              "array([[ 3749.39974006,   121.44627507,  -286.23556295, ...,\n",
              "          929.03193896,   683.18769185,   185.93233799],\n",
              "       [  121.44627507,  3317.89133544,  -414.57783729, ...,\n",
              "          249.80187047,  -186.39346407,    32.94492881],\n",
              "       [ -286.23556295,  -414.57783729,  4432.25275441, ...,\n",
              "        -1320.71269349, -1317.86398064, -1358.46910413],\n",
              "       ...,\n",
              "       [  929.03193896,   249.80187047, -1320.71269349, ...,\n",
              "         4747.05444398,  2871.22377195,  1350.80469724],\n",
              "       [  683.18769185,  -186.39346407, -1317.86398064, ...,\n",
              "         2871.22377195,  4971.26362098,  2525.78346658],\n",
              "       [  185.93233799,    32.94492881, -1358.46910413, ...,\n",
              "         1350.80469724,  2525.78346658,  4017.65214958]])"
            ]
          },
          "metadata": {},
          "execution_count": 14
        }
      ]
    },
    {
      "cell_type": "code",
      "source": [
        "C = 1 / len(data) * np.dot(data.T, data)\n",
        "U, w, VT = np.linalg.svd(C, compute_uv=True)\n",
        "print(w)\n",
        "print(U)"
      ],
      "metadata": {
        "id": "GovHo34px_J3",
        "colab": {
          "base_uri": "https://localhost:8080/"
        },
        "outputId": "16de47e2-b1a8-4315-b447-64ff0ff174ef"
      },
      "execution_count": null,
      "outputs": [
        {
          "output_type": "stream",
          "name": "stdout",
          "text": [
            "[3.96868515e+05 2.63283910e+05 2.05144748e+05 1.67111181e+05\n",
            " 1.64733709e+05 1.36615552e+05 1.14237485e+05 9.86420570e+04\n",
            " 8.08690900e+04 7.75877676e+04 7.47904414e+04 6.13993993e+04\n",
            " 5.79597367e+04 5.53569033e+04 5.01280912e+04 4.55348626e+04\n",
            " 4.48845828e+04 4.02645787e+04 3.85796218e+04 3.66780202e+04\n",
            " 3.35400911e+04 3.21086530e+04 3.03816715e+04 2.82695054e+04\n",
            " 2.72213405e+04 2.63613277e+04 2.45293584e+04 2.30842957e+04\n",
            " 2.19717334e+04 2.14592384e+04 1.98637525e+04 1.92580932e+04\n",
            " 1.90991777e+04 1.80672082e+04 1.70947415e+04 1.62227367e+04\n",
            " 1.59683183e+04 1.53590306e+04 1.48036959e+04 1.45532577e+04\n",
            " 1.37216234e+04 1.29787004e+04 1.27195706e+04 1.25070555e+04\n",
            " 1.15814449e+04 1.10925879e+04 1.08561169e+04 1.04515446e+04\n",
            " 1.03511097e+04 1.01105982e+04 9.73291925e+03 9.54879041e+03\n",
            " 9.43354640e+03 9.14559766e+03 8.64311106e+03 8.31965538e+03\n",
            " 8.12575124e+03 7.77033023e+03 7.72303510e+03 7.56973031e+03\n",
            " 7.35402997e+03 6.96238961e+03 6.88280459e+03 6.57979994e+03\n",
            " 6.35252801e+03 6.27202045e+03 6.17985551e+03 6.01853013e+03\n",
            " 5.88518734e+03 5.83602550e+03 5.58137272e+03 5.45597632e+03\n",
            " 5.30596067e+03 5.26792695e+03 5.10450729e+03 5.06169784e+03\n",
            " 4.93613453e+03 4.89053031e+03 4.74182867e+03 4.57309872e+03\n",
            " 4.40813504e+03 4.34652919e+03 4.19380585e+03 4.17933776e+03\n",
            " 4.05817178e+03 3.98302299e+03 3.94252473e+03 3.91394323e+03\n",
            " 3.78702498e+03 3.68091690e+03 3.64941029e+03 3.55444633e+03\n",
            " 3.53071014e+03 3.48049794e+03 3.39871726e+03 3.26120339e+03\n",
            " 3.21571720e+03 3.18641826e+03 3.13271272e+03 3.10222132e+03\n",
            " 3.04051170e+03 3.01903646e+03 2.91055148e+03 2.87062753e+03\n",
            " 2.83633824e+03 2.80452727e+03 2.69818546e+03 2.68805328e+03\n",
            " 2.66189177e+03 2.59686282e+03 2.56587592e+03 2.54059257e+03\n",
            " 2.48941714e+03 2.45315221e+03 2.39649633e+03 2.34149011e+03\n",
            " 2.33796916e+03 2.29295983e+03 2.27669581e+03 2.23835110e+03\n",
            " 2.20317208e+03 2.16490939e+03 2.13006131e+03 2.12543898e+03\n",
            " 2.09465942e+03 2.06106680e+03 2.00566945e+03 1.99338431e+03\n",
            " 1.96781284e+03 1.94612939e+03 1.93501475e+03 1.91332107e+03\n",
            " 1.84989371e+03 1.84237347e+03 1.82922449e+03 1.82669542e+03\n",
            " 1.78688207e+03 1.76976969e+03 1.74660639e+03 1.73806864e+03\n",
            " 1.71855563e+03 1.70192701e+03 1.66994083e+03 1.66363889e+03\n",
            " 1.65435798e+03 1.61587322e+03 1.57556879e+03 1.56357000e+03\n",
            " 1.55199395e+03 1.51637416e+03 1.50512143e+03 1.48476216e+03\n",
            " 1.46841755e+03 1.46515454e+03 1.44466886e+03 1.42577906e+03\n",
            " 1.40837349e+03 1.38884060e+03 1.38181933e+03 1.36732771e+03\n",
            " 1.35745068e+03 1.33621109e+03 1.32463741e+03 1.30447796e+03\n",
            " 1.29562673e+03 1.26716305e+03 1.24518808e+03 1.23824693e+03\n",
            " 1.22887224e+03 1.21633154e+03 1.18974233e+03 1.18195102e+03\n",
            " 1.17146385e+03 1.16450194e+03 1.15543937e+03 1.14221598e+03\n",
            " 1.12612166e+03 1.11470853e+03 1.11098874e+03 1.10195814e+03\n",
            " 1.08400826e+03 1.07669612e+03 1.06819760e+03 1.05066645e+03\n",
            " 1.03658376e+03 1.03369893e+03 1.01567602e+03 1.01043560e+03\n",
            " 1.00169354e+03 9.88922345e+02 9.84367590e+02 9.65926975e+02\n",
            " 9.59535624e+02 9.51176457e+02 9.44465628e+02 9.36230804e+02\n",
            " 9.27729240e+02 9.13291482e+02 9.02951281e+02 8.98870645e+02\n",
            " 8.89408676e+02 8.83446551e+02 8.75387556e+02 8.74165473e+02\n",
            " 8.63492728e+02 8.40582294e+02 8.33660317e+02 8.27984281e+02\n",
            " 8.26218442e+02 8.07204774e+02 8.04710013e+02 7.95329438e+02\n",
            " 7.92336415e+02 7.82961471e+02 7.80252758e+02 7.76881895e+02\n",
            " 7.69638714e+02 7.61720546e+02 7.54512698e+02 7.46253296e+02\n",
            " 7.40391239e+02 7.36957368e+02 7.33450406e+02 7.18712775e+02\n",
            " 7.13425633e+02 7.00399523e+02 6.97504913e+02 6.88258662e+02\n",
            " 6.84359509e+02 6.78650078e+02 6.78111689e+02 6.64491876e+02\n",
            " 6.57610134e+02 6.55432294e+02 6.49859651e+02 6.44644005e+02\n",
            " 6.36714763e+02 6.33559009e+02 6.26250048e+02 6.22102132e+02\n",
            " 6.16169763e+02 6.15334608e+02 6.10308770e+02 6.02781999e+02\n",
            " 5.92588587e+02 5.87200285e+02 5.82741570e+02 5.77325767e+02\n",
            " 5.73893641e+02 5.71239851e+02 5.67460274e+02 5.59364504e+02\n",
            " 5.57404254e+02 5.51312320e+02 5.48024991e+02 5.44782018e+02\n",
            " 5.38866600e+02 5.37182702e+02 5.35614083e+02 5.31759674e+02\n",
            " 5.28358891e+02 5.21068270e+02 5.16296751e+02 5.12376529e+02\n",
            " 5.07875819e+02 5.01173731e+02 4.97003738e+02 4.93797388e+02\n",
            " 4.90559337e+02 4.84284133e+02 4.81612790e+02 4.79732612e+02\n",
            " 4.78965670e+02 4.71112894e+02 4.66696770e+02 4.63923510e+02\n",
            " 4.62503801e+02 4.55678828e+02 4.54423805e+02 4.48991722e+02\n",
            " 4.48058785e+02 4.44432926e+02 4.41878509e+02 4.34355692e+02\n",
            " 4.31686854e+02 4.28489353e+02 4.25422834e+02 4.24137587e+02\n",
            " 4.20472536e+02 4.18014863e+02 4.11892496e+02 4.09349427e+02\n",
            " 4.06406510e+02 4.05598331e+02 4.01791635e+02 3.98673408e+02\n",
            " 3.95805461e+02 3.91367482e+02 3.89448796e+02 3.87446400e+02\n",
            " 3.83560313e+02 3.81725669e+02 3.80902723e+02 3.75966352e+02\n",
            " 3.75066390e+02 3.72359830e+02 3.69955350e+02 3.67513221e+02\n",
            " 3.64485015e+02 3.61414652e+02 3.57162344e+02 3.54455490e+02\n",
            " 3.50867731e+02 3.49902872e+02 3.45653081e+02 3.44685294e+02\n",
            " 3.41169761e+02 3.39913133e+02 3.39290385e+02 3.35782956e+02\n",
            " 3.32461336e+02 3.30313963e+02 3.27430218e+02 3.26103815e+02\n",
            " 3.22364256e+02 3.20233393e+02 3.17765262e+02 3.14275139e+02\n",
            " 3.11516221e+02 3.08986219e+02 3.06624023e+02 3.06009631e+02\n",
            " 3.01841209e+02 3.00987879e+02 2.96387095e+02 2.92844930e+02\n",
            " 2.92224715e+02 2.90336765e+02 2.88189162e+02 2.87982690e+02\n",
            " 2.85518080e+02 2.82509170e+02 2.81330036e+02 2.79293178e+02\n",
            " 2.77702726e+02 2.72295647e+02 2.70597686e+02 2.68007679e+02\n",
            " 2.64356245e+02 2.63083482e+02 2.61518678e+02 2.59633920e+02\n",
            " 2.57398238e+02 2.54461356e+02 2.51563474e+02 2.49379868e+02\n",
            " 2.47757494e+02 2.46089453e+02 2.43341043e+02 2.41019678e+02\n",
            " 2.37571422e+02 2.36143971e+02 2.34032301e+02 2.32650834e+02\n",
            " 2.29886803e+02 2.27182337e+02 2.26314881e+02 2.24481672e+02\n",
            " 2.21764049e+02 2.19550552e+02 2.17468854e+02 2.15352219e+02\n",
            " 2.14442994e+02 2.07723173e+02 2.07044368e+02 2.05689722e+02\n",
            " 2.04091685e+02 2.02022781e+02 1.97750162e+02 1.95376989e+02\n",
            " 1.91773215e+02 1.90464916e+02 1.86448366e+02 1.81856097e+02\n",
            " 1.80558244e+02 1.79495988e+02 1.77793521e+02 1.75680240e+02\n",
            " 1.73738400e+02 1.71791090e+02 1.69731046e+02 1.67253951e+02\n",
            " 1.66077341e+02 1.64530594e+02 1.63510668e+02 1.61777684e+02\n",
            " 1.60119497e+02 1.55473171e+02 1.55314201e+02 1.54877830e+02\n",
            " 1.51535021e+02 1.49844060e+02 1.46325242e+02 1.45740603e+02\n",
            " 1.44162286e+02 1.41902935e+02 1.40143048e+02 1.38682399e+02\n",
            " 1.36935877e+02 1.33887196e+02 1.30912797e+02 1.29906825e+02\n",
            " 1.28830769e+02 1.26159125e+02 1.24894576e+02 1.22229179e+02\n",
            " 1.21456496e+02 1.19828974e+02 1.18655623e+02 1.16477535e+02\n",
            " 1.13434423e+02 1.12008689e+02 1.10965428e+02 1.09106603e+02\n",
            " 1.08392987e+02 1.06732015e+02 1.04297916e+02 1.02934367e+02\n",
            " 9.93322299e+01 9.68525708e+01 9.58044919e+01 9.38383899e+01\n",
            " 9.22949642e+01 9.08172282e+01 8.76537239e+01 8.62706671e+01\n",
            " 8.46619782e+01 8.24386119e+01 8.18070317e+01 8.08031851e+01\n",
            " 7.98831160e+01 7.72315986e+01 7.68419237e+01 7.62681367e+01\n",
            " 7.47032832e+01 7.28712125e+01 7.21227217e+01 7.04697206e+01\n",
            " 6.76741851e+01 6.72117545e+01 6.55618693e+01 6.51553805e+01\n",
            " 6.34284675e+01 6.29092314e+01 6.09614084e+01 6.06358032e+01\n",
            " 5.79343041e+01 5.74302286e+01 5.61182585e+01 5.55051182e+01\n",
            " 5.50735899e+01 5.40190910e+01 5.21949125e+01 5.05235141e+01\n",
            " 4.99233762e+01 4.86811207e+01 4.80820988e+01 4.67769403e+01\n",
            " 4.51611525e+01 4.46032566e+01 4.35783179e+01 4.16889582e+01\n",
            " 4.05857049e+01 3.98959746e+01 3.85280966e+01 3.69542417e+01\n",
            " 3.63497414e+01 3.56533986e+01 3.52396164e+01 3.41336999e+01\n",
            " 3.27329540e+01 3.22624040e+01 3.09985050e+01 3.07899877e+01\n",
            " 3.05288434e+01 2.93050104e+01 2.83852501e+01 2.76340331e+01\n",
            " 2.70789421e+01 2.62630912e+01 2.57384064e+01 2.54820472e+01\n",
            " 2.38311650e+01 2.37718086e+01 2.30917885e+01 2.25098461e+01\n",
            " 2.23017145e+01 2.21875668e+01 2.08440745e+01 2.03612239e+01\n",
            " 1.99239486e+01 1.96083129e+01 1.92417943e+01 1.89527346e+01\n",
            " 1.88521721e+01 1.82989142e+01 1.81152761e+01 1.72119073e+01\n",
            " 1.68913308e+01 1.66347758e+01 1.57738791e+01 1.52169075e+01\n",
            " 1.46948905e+01 1.43227178e+01 1.37580435e+01 1.36088984e+01\n",
            " 1.33971937e+01 1.27953778e+01 1.22023378e+01 1.20260008e+01\n",
            " 1.13488947e+01 1.10480733e+01 1.06779156e+01 1.02781731e+01\n",
            " 1.01112130e+01 8.80002618e+00 8.67089604e+00 8.59797038e+00\n",
            " 8.29731461e+00 7.63161870e+00 7.36076564e+00 7.22199764e+00\n",
            " 7.04002059e+00 6.41122721e+00 6.20285399e+00 5.64999896e+00\n",
            " 5.29616108e+00 4.24506996e+00 4.13453380e+00 4.11929779e+00\n",
            " 4.06331580e+00 3.62493822e+00 3.55823788e+00 3.43138271e+00\n",
            " 3.37049306e+00 3.20644033e+00 3.06719087e+00 3.01608846e+00\n",
            " 2.91343314e+00 2.28998489e+00 2.27333998e+00 2.21836172e+00\n",
            " 2.09635315e+00 1.78931857e+00 1.42618520e+00 1.25304013e+00\n",
            " 1.23760342e+00 1.15027016e+00 1.12638245e+00 1.07875747e+00\n",
            " 1.07739125e+00 1.00588174e+00 9.92673488e-01 8.96238964e-01\n",
            " 8.72122966e-01 8.62137515e-01 8.36228543e-01 7.91608814e-01\n",
            " 7.30935769e-01 5.48422873e-01 5.29110336e-01 5.09563694e-01\n",
            " 4.97540760e-01 4.55610377e-01 4.50280959e-01 3.76037606e-01\n",
            " 3.73113814e-01 3.39130032e-01 2.72220969e-01 2.64869136e-01\n",
            " 1.62220278e-01 1.46198003e-01 1.13505096e-01 9.21031865e-02\n",
            " 8.89559806e-02 7.51023846e-02 6.51308667e-02 4.75424700e-02\n",
            " 1.80725383e-02 6.66343254e-03 5.22995631e-03 4.27452810e-03\n",
            " 3.13538321e-03 2.04347782e-03 1.60049803e-03 1.08982981e-03\n",
            " 1.41289289e-04 9.04748426e-11 7.21349749e-11 6.33624734e-11\n",
            " 4.55660613e-11 2.82792221e-11 2.69840036e-11 2.63076793e-11\n",
            " 2.60431698e-11 2.60431698e-11 2.60431698e-11 2.60431698e-11\n",
            " 2.60431698e-11 2.60431698e-11 2.60431698e-11 2.60431698e-11\n",
            " 2.60431698e-11 2.60431698e-11 2.60431698e-11 2.60431698e-11\n",
            " 2.60431698e-11 2.60431698e-11 2.60431698e-11 2.60431698e-11\n",
            " 2.60431698e-11 2.60431698e-11 2.60431698e-11 2.60431698e-11\n",
            " 2.60431698e-11 2.60431698e-11 2.60431698e-11 2.60431698e-11\n",
            " 2.60431698e-11 2.60431698e-11 2.60431698e-11 2.60431698e-11\n",
            " 2.60431698e-11 2.60431698e-11 2.60431698e-11 2.60431698e-11\n",
            " 2.60431698e-11 2.60431698e-11 2.60431698e-11 2.60431698e-11\n",
            " 2.60431698e-11 2.60431698e-11 2.60431698e-11 2.60431698e-11\n",
            " 2.60431698e-11 2.60431698e-11 2.60431698e-11 2.60431698e-11\n",
            " 2.60431698e-11 2.60431698e-11 2.60431698e-11 2.60431698e-11\n",
            " 2.60431698e-11 2.60431698e-11 2.60431698e-11 2.60431698e-11\n",
            " 2.60431698e-11 2.60431698e-11 2.60431698e-11 2.60431698e-11\n",
            " 2.60431698e-11 2.60431698e-11 2.60431698e-11 2.60431698e-11\n",
            " 2.60431698e-11 2.60431698e-11 2.60431698e-11 2.60431698e-11\n",
            " 2.60431698e-11 2.60431698e-11 2.60431698e-11 2.60431698e-11\n",
            " 2.60431698e-11 2.60431698e-11 2.60431698e-11 2.60431698e-11\n",
            " 2.60431698e-11 2.60431698e-11 2.60431698e-11 2.60431698e-11\n",
            " 2.60431698e-11 2.60431698e-11 2.60431698e-11 2.60431698e-11\n",
            " 2.60431698e-11 2.60431698e-11 2.60431698e-11 2.60431698e-11\n",
            " 2.60431698e-11 2.60431698e-11 2.60431698e-11 2.60431698e-11\n",
            " 2.60431698e-11 2.60431698e-11 2.60431698e-11 2.60431698e-11\n",
            " 2.60431698e-11 2.60431698e-11 2.60431698e-11 2.60431698e-11\n",
            " 2.60431698e-11 2.60431698e-11 2.60431698e-11 2.60431698e-11\n",
            " 2.60431698e-11 2.60431698e-11 2.60431698e-11 2.60431698e-11\n",
            " 2.60431698e-11 2.60431698e-11 2.60431698e-11 2.60431698e-11\n",
            " 2.60431698e-11 2.60431698e-11 2.60431698e-11 2.60431698e-11\n",
            " 2.60431698e-11 2.60431698e-11 2.60431698e-11 2.60431698e-11\n",
            " 2.60431698e-11 2.60431698e-11 2.60431698e-11 2.60431698e-11\n",
            " 2.60431698e-11 2.60431698e-11 2.60431698e-11 2.60431698e-11\n",
            " 2.60431698e-11 2.60431698e-11 2.60431698e-11 2.60431698e-11\n",
            " 2.60431698e-11 2.60431698e-11 2.60431698e-11 2.60431698e-11\n",
            " 2.60431698e-11 2.60431698e-11 2.60431698e-11 2.60431698e-11\n",
            " 2.60431698e-11 2.60431698e-11 2.60431698e-11 2.60431698e-11\n",
            " 2.60431698e-11 2.60431698e-11 2.60431698e-11 2.60431698e-11\n",
            " 2.60431698e-11 2.60431698e-11 2.60431698e-11 2.60431698e-11\n",
            " 2.60431698e-11 2.60431698e-11 2.60431698e-11 2.60431698e-11\n",
            " 2.60431698e-11 2.60431698e-11 2.60431698e-11 2.60431698e-11\n",
            " 2.60431698e-11 2.60431698e-11 2.60431698e-11 2.60431698e-11\n",
            " 2.60431698e-11 2.60431698e-11 2.60431698e-11 2.60431698e-11\n",
            " 2.60431698e-11 2.60431698e-11 2.60431698e-11 2.60431698e-11\n",
            " 2.60431698e-11 2.60431698e-11 2.60431698e-11 2.60431698e-11\n",
            " 2.60431698e-11 2.60431698e-11 2.60431698e-11 2.60431698e-11\n",
            " 2.60431698e-11 2.60431698e-11 9.57909582e-12 2.72673725e-12]\n",
            "[[0. 0. 0. ... 0. 0. 0.]\n",
            " [0. 0. 0. ... 0. 0. 0.]\n",
            " [0. 0. 0. ... 0. 0. 0.]\n",
            " ...\n",
            " [0. 0. 0. ... 0. 0. 0.]\n",
            " [0. 0. 0. ... 0. 0. 0.]\n",
            " [0. 0. 0. ... 1. 0. 0.]]\n"
          ]
        }
      ]
    },
    {
      "cell_type": "code",
      "source": [
        "def find_eigenvalues_and_eigenvectors(A):\n",
        "    C = 1 / len(A) * np.dot(A.T, A)\n",
        "    \n",
        "    #compute eigenvalues and eigen vectors\n",
        "    U, w, VT = np.linalg.svd(C, compute_uv=True)\n",
        "    return w, U\n",
        "eigenvalues, eigenvectors = find_eigenvalues_and_eigenvectors(data)\n",
        "print(eigenvalues.shape)\n",
        "\n",
        "\n",
        "sort_index = np.argsort(eigenvalues)[::-1]\n",
        "\n",
        "eigenvalues= eigenvalues[sort_index]\n",
        "eigenvectors = eigenvectors[:, sort_index]\n",
        "\n",
        "\n",
        "print(eigenvalues[:70])\n",
        "print(eigenvectors[:70])"
      ],
      "metadata": {
        "id": "ZpiTR0spyWUy",
        "colab": {
          "base_uri": "https://localhost:8080/"
        },
        "outputId": "a9eb227e-2bfe-41b0-eb30-36770c4d00f5"
      },
      "execution_count": null,
      "outputs": [
        {
          "output_type": "stream",
          "name": "stdout",
          "text": [
            "(784,)\n",
            "[396868.51455854 263283.90999433 205144.74842901 167111.18063085\n",
            " 164733.70858437 136615.55154665 114237.4851964   98642.0570169\n",
            "  80869.08999456  77587.7675947   74790.44141963  61399.39929974\n",
            "  57959.73669142  55356.90328204  50128.09120004  45534.86257964\n",
            "  44884.58281     40264.57874844  38579.62184869  36678.02017454\n",
            "  33540.09107589  32108.65300452  30381.67154527  28269.50542535\n",
            "  27221.34050295  26361.32769293  24529.35840028  23084.29569691\n",
            "  21971.73336337  21459.2383828   19863.75248036  19258.09317448\n",
            "  19099.17766664  18067.2081943   17094.74148085  16222.7367272\n",
            "  15968.31834065  15359.03055666  14803.69593856  14553.25770111\n",
            "  13721.62338956  12978.70040399  12719.57061732  12507.05546315\n",
            "  11581.44486048  11092.58787458  10856.1169368   10451.54455682\n",
            "  10351.10968505  10110.59817594   9732.91925171   9548.79040754\n",
            "   9433.54640353   9145.59766051   8643.11105809   8319.655383\n",
            "   8125.7512353    7770.33022582   7723.0351001    7569.73030826\n",
            "   7354.02996736   6962.38960977   6882.80459097   6579.7999384\n",
            "   6352.52800715   6272.02044802   6179.8555145    6018.53013005\n",
            "   5885.18733947   5836.02549999]\n",
            "[[ 0.00000000e+00  0.00000000e+00  0.00000000e+00 ...  0.00000000e+00\n",
            "   0.00000000e+00  0.00000000e+00]\n",
            " [ 0.00000000e+00  0.00000000e+00  0.00000000e+00 ...  0.00000000e+00\n",
            "   0.00000000e+00  0.00000000e+00]\n",
            " [ 0.00000000e+00  0.00000000e+00  0.00000000e+00 ...  0.00000000e+00\n",
            "   0.00000000e+00  0.00000000e+00]\n",
            " ...\n",
            " [ 2.83005046e-04 -3.98838279e-03  2.59245775e-03 ...  0.00000000e+00\n",
            "   8.83791607e-13 -4.43461240e-13]\n",
            " [-1.05881334e-04 -4.34938545e-03  1.64816430e-03 ...  0.00000000e+00\n",
            "  -1.45457908e-12  7.56165096e-13]\n",
            " [-9.45833657e-04 -4.25354901e-03  5.41821691e-04 ...  0.00000000e+00\n",
            "   1.17110401e-12 -8.74446349e-13]]\n"
          ]
        }
      ]
    },
    {
      "cell_type": "code",
      "source": [
        "M = np.array(range(1, data.shape[1] + 1))\n",
        "\n",
        "r = np.cumsum(eigenvalues)/np.sum(eigenvalues)\n",
        "\n",
        "# Plot r vs M\n",
        "plt.plot(M, r)\n",
        "\n",
        "plt.xlabel(\"eigenvalue\", fontsize=20)\n",
        "plt.ylabel(\"order\", fontsize=20)\n",
        "plt.grid(\"on\")\n",
        "plt.show()"
      ],
      "metadata": {
        "colab": {
          "base_uri": "https://localhost:8080/",
          "height": 288
        },
        "id": "p3XKYNj9zHGF",
        "outputId": "08ededf0-1115-4749-b4ec-a2d4f375a36d"
      },
      "execution_count": null,
      "outputs": [
        {
          "output_type": "display_data",
          "data": {
            "text/plain": [
              "<Figure size 432x288 with 1 Axes>"
            ],
            "image/png": "[encoded data removed]"
          },
          "metadata": {
            "needs_background": "light"
          }
        }
      ]
    },
    {
      "cell_type": "markdown",
      "source": [
        "d) [5 points] Again for the digit 2, show the  3 images side-by-side corresponding to: i) $\\mu$, ii) $\\mu - \\sqrt{\\lambda_{1}}*v_{1}$ and iii) ii) $\\mu + \\sqrt{\\lambda_{1}}*v_{1}$ to show the principal mode of variation of the digits around their mean. For this particular digit, 2, what do the principal mode of variation tell you about the main differences in how  people write this digit? \n",
        "Feel free to repeat parts (c) and (d) for other digits as well to find interesting trends!\n",
        "\n",
        "\n",
        "[Hint : Use the code from the Data pre-processing section to plot a (784,) shaped vector as a (28,28) image]"
      ],
      "metadata": {
        "id": "4Ey_M3fAYV4O"
      }
    },
    {
      "cell_type": "code",
      "source": [
        "import math\n",
        "plt.imshow(np.reshape(mean, (28,28)))"
      ],
      "metadata": {
        "colab": {
          "base_uri": "https://localhost:8080/",
          "height": 282
        },
        "id": "q5bCsjfCwZZk",
        "outputId": "8f408eef-9d3e-4991-8472-217da3f1e70e"
      },
      "execution_count": null,
      "outputs": [
        {
          "output_type": "execute_result",
          "data": {
            "text/plain": [
              "<matplotlib.image.AxesImage at 0x7fe1c45cb1d0>"
            ]
          },
          "metadata": {},
          "execution_count": 21
        },
        {
          "output_type": "display_data",
          "data": {
            "text/plain": [
              "<Figure size 432x288 with 1 Axes>"
            ],
            "image/png": "[encoded data removed]"
          },
          "metadata": {
            "needs_background": "light"
          }
        }
      ]
    },
    {
      "cell_type": "code",
      "source": [
        "plt.imshow(np.reshape(mean - math.sqrt(np.real(eigenvalues[0])) * np.real(eigenvectors[0]), (28,28)))"
      ],
      "metadata": {
        "id": "ugFbYN3y24r7",
        "colab": {
          "base_uri": "https://localhost:8080/",
          "height": 282
        },
        "outputId": "32f847f9-24e3-4f9e-a410-cb0a1597c81d"
      },
      "execution_count": null,
      "outputs": [
        {
          "output_type": "execute_result",
          "data": {
            "text/plain": [
              "<matplotlib.image.AxesImage at 0x7fe1c436b7d0>"
            ]
          },
          "metadata": {},
          "execution_count": 29
        },
        {
          "output_type": "display_data",
          "data": {
            "text/plain": [
              "<Figure size 432x288 with 1 Axes>"
            ],
            "image/png": "[encoded data removed]"
          },
          "metadata": {
            "needs_background": "light"
          }
        }
      ]
    },
    {
      "cell_type": "code",
      "source": [
        "plt.imshow(np.reshape(mean + math.sqrt(np.real(eigenvalues[0])) * np.real(eigenvectors[0]), (28,28)))"
      ],
      "metadata": {
        "colab": {
          "base_uri": "https://localhost:8080/",
          "height": 282
        },
        "id": "erPLJGCQL9HM",
        "outputId": "a71ccd40-fb57-4aad-8ae5-c9621dc551f6"
      },
      "execution_count": null,
      "outputs": [
        {
          "output_type": "execute_result",
          "data": {
            "text/plain": [
              "<matplotlib.image.AxesImage at 0x7fe1c4358cd0>"
            ]
          },
          "metadata": {},
          "execution_count": 30
        },
        {
          "output_type": "display_data",
          "data": {
            "text/plain": [
              "<Figure size 432x288 with 1 Axes>"
            ],
            "image/png": "[encoded data removed]"
          },
          "metadata": {
            "needs_background": "light"
          }
        }
      ]
    },
    {
      "cell_type": "markdown",
      "source": [
        ""
      ],
      "metadata": {
        "id": "EaGMxt_l1Zw_"
      }
    },
    {
      "cell_type": "markdown",
      "source": [
        "e) [5 points] For this part, we will try to see how the principal components can be used to compress and reconstruct the data. Follow the steps given below - \n",
        "\n",
        "1) Consider the eigenvectors corresponding to the top 5 highest eigenvalues computed in part (c). Arrange them in a matrix such that each row is one of the eigenvectors. Let's call this matrix $P$. This will of shape $(5,784)$.\n",
        "\n",
        "2) Recall that the data matrix given to you is of shape $(5958, 784)$. Subtract the mean $\\mu$ computed in part (a) from this data matrix from each row so that the data is now zero mean. Let's call this matrix $D$.\n",
        "\n",
        "3) Now we project the data onto the first 5 principal components. To perform this operation, compute $D^{'} = D \\times P^{T}$, i.e, matrix multiply $D$ and the transpose of $P$. This new data matrix $D^{'}$ represents your compressed data. The shape of this matrix should be $(5958, 5)$. Notice how it has been reduced substantially from the previous shape of $(5958, 784)$.\n",
        "\n",
        "4) Next, we will try to reconstruct our original data back and see how much information we have lost. To reconstruct the data, we perform the following operation - $R = D^{'} \\times P  + \\mu$, where $\\mu$ is added to each row. The matrix $R$ is again going to be of the shape $(5958, 784)$, but it is going to be different from our original data matrix. To show this, take the first row from the original data (without subtracting the mean) and the first row of $R$ and plot both the images alongside each other, and also plot the difference of the two images.\n",
        "\n",
        "Repeat this process after considering 50 eigenvectors instead of 5. What do you expect to observe? Note your observations.\n",
        "\n",
        "[Use [np.matmul](https://numpy.org/doc/stable/reference/generated/numpy.matmul.html) to perform matrix multiplication]\n",
        "\n"
      ],
      "metadata": {
        "id": "5445LQihLYtK"
      }
    },
    {
      "cell_type": "code",
      "source": [
        "def find_eigenvalues_and_eigenvectors(A):\n",
        "    C = 1 / len(A) * np.dot(A.T, A)\n",
        "    \n",
        "    #compute eigenvalues and eigen vectors\n",
        "    U, w, VT = np.linalg.svd(C, compute_uv=True)\n",
        "    return w, U\n",
        "eigenvalues, eigenvectors = find_eigenvalues_and_eigenvectors(data)\n",
        "print(eigenvalues.shape)\n",
        "\n",
        "\n",
        "sort_index = np.argsort(eigenvalues)[::-1]\n",
        "\n",
        "eigenvalues= eigenvalues[sort_index]\n",
        "eigenvectors = eigenvectors[:, sort_index]\n",
        "\n",
        "\n",
        "print(eigenvalues[:50])\n",
        "print(eigenvectors[:50])"
      ],
      "metadata": {
        "colab": {
          "base_uri": "https://localhost:8080/"
        },
        "id": "TvVkwOdumrvd",
        "outputId": "295460d6-a38d-41d1-cadf-502c6ea6da70"
      },
      "execution_count": null,
      "outputs": [
        {
          "output_type": "stream",
          "name": "stdout",
          "text": [
            "(784,)\n",
            "[396868.51455854 263283.90999433 205144.74842901 167111.18063085\n",
            " 164733.70858437 136615.55154665 114237.4851964   98642.0570169\n",
            "  80869.08999456  77587.7675947   74790.44141963  61399.39929974\n",
            "  57959.73669142  55356.90328204  50128.09120004  45534.86257964\n",
            "  44884.58281     40264.57874844  38579.62184869  36678.02017454\n",
            "  33540.09107589  32108.65300452  30381.67154527  28269.50542535\n",
            "  27221.34050295  26361.32769293  24529.35840028  23084.29569691\n",
            "  21971.73336337  21459.2383828   19863.75248036  19258.09317448\n",
            "  19099.17766664  18067.2081943   17094.74148085  16222.7367272\n",
            "  15968.31834065  15359.03055666  14803.69593856  14553.25770111\n",
            "  13721.62338956  12978.70040399  12719.57061732  12507.05546315\n",
            "  11581.44486048  11092.58787458  10856.1169368   10451.54455682\n",
            "  10351.10968505  10110.59817594]\n",
            "[[ 0.          0.          0.         ...  0.          0.\n",
            "   0.        ]\n",
            " [ 0.          0.          0.         ...  0.          0.\n",
            "   0.        ]\n",
            " [ 0.          0.          0.         ...  0.          0.\n",
            "   0.        ]\n",
            " ...\n",
            " [ 0.          0.          0.         ...  0.         -0.05867314\n",
            "  -0.00843417]\n",
            " [ 0.          0.          0.         ...  0.         -0.02305963\n",
            "   0.00167116]\n",
            " [ 0.          0.          0.         ...  0.          0.02534091\n",
            "   0.00109232]]\n"
          ]
        }
      ]
    },
    {
      "cell_type": "markdown",
      "source": [
        "# Question 2 [10 points]\n",
        "\n",
        "Use two vectors $v_1=[1 , 1 , 1 ,  1 ,  1 , 1]^T$ and $v_2=[-2 , 1 , -3 ,  4 ,  -1 , 1]^T$, to sample $10000$ data points from the distribution of random variable $U \\in R^6$ defined as\n",
        "$$U=Xv_1+Yv_2 + Z$$ \n",
        "such that $X\\sim N(1,\\sigma^2)$ and $Y\\sim N(-1,\\sigma^2)$, and $Z \\in R^6$ is zero mean gaussian noise with covariance matrix $\\eta^2 I_{6 \\times 6}$ (where $I_{6 \\times 6}$ is the identity matrix). This means that we are adding zero mean gaussain noise with variance $\\eta^2$ in all six dimensions independently. Let $\\eta^2 << \\sigma^2$. Generate the data using $\\sigma^2=4$ and $\\eta^2=0.01$ and obtain a scree plot. How many principal components are needed to explain most of the variance in your data? Briefly explain why this answer makes intuitive sense given the data generation process."
      ],
      "metadata": {
        "id": "VyXTChWzzApx"
      }
    },
    {
      "cell_type": "code",
      "source": [
        "from re import T\n",
        "from sklearn.decomposition import PCA\n",
        "pca = PCA(n_components=6)\n",
        "v1 = np.array([1,1,1,1,1,1])\n",
        "v2 = np.array([2,1,3,4,1,1])\n"
      ],
      "metadata": {
        "id": "4g2iAhXP8TYa"
      },
      "execution_count": null,
      "outputs": []
    },
    {
      "cell_type": "code",
      "source": [
        "N=np.matrix(v1.T)*np.matrix(v2)\n",
        "A,B,C=np.linalg.svd(N)\n",
        "eigen_values=B**2/np.sum(B**2)\n",
        "figure=plt.figure(figsize=(10,6))\n",
        "sing_vals=np.arange(len(eigen_values)) + 1\n",
        "plt.plot(sing_vals,eigen_values, 'ro-', linewidth=2)\n",
        "plt.title('Scree Plot')\n",
        "plt.xlabel('Principal Component')\n",
        "plt.ylabel('Eigenvalue') \n",
        "plt.show() "
      ],
      "metadata": {
        "colab": {
          "base_uri": "https://localhost:8080/",
          "height": 404
        },
        "id": "Nq5cpenfXqLJ",
        "outputId": "a5300e84-8673-4e57-c5b7-598515c36587"
      },
      "execution_count": null,
      "outputs": [
        {
          "output_type": "display_data",
          "data": {
            "text/plain": [
              "<Figure size 720x432 with 1 Axes>"
            ],
            "image/png": "[encoded data removed]"
          },
          "metadata": {
            "needs_background": "light"
          }
        }
      ]
    },
    {
      "cell_type": "code",
      "source": [
        ""
      ],
      "metadata": {
        "id": "y4espsDyZrVw"
      },
      "execution_count": null,
      "outputs": []
    },
    {
      "cell_type": "markdown",
      "source": [
        "# Question 3 - Expected Loss Minimization (10 pts)\n",
        "Consider a binary classification problem with the following loss matrix -\n",
        "$$\n",
        "   {\\begin{array}{ccccc}\n",
        "   & & \\text{Predicted class} & \\text{           } &\\\\\n",
        "   & & C1 & C2 & Reject\\\\\n",
        "   \\text{True class} & C1 & 0 & r & c  \\\\\n",
        "   & C2 & s & 0 & c \\\\\n",
        "  \\end{array} } \n",
        "$$\n",
        "where the cost of rejection is a constant, and the costs $r$ and $s$ are positive real numbers. Let $f(x)=P(C1|x)$.\n",
        "\n",
        "\n",
        "**(a) [2.5 points]** Show that the expected loss when $x$ is labelled as $C_1$ is a decreasing function of $f(x)$ while expected loss when $x$ is labelled as $C_2$ is a increasing function of $f(x)$.  \n",
        "\n",
        "**(b) [2.5 points]** For $c=0$, show that the decision which minimizes the expected loss is to reject all instances of $x$\n",
        "\n",
        "**(c) [2.5 points]** Let $r=4$ and $s=1$, what is the minimum value of $c$ required so that we reject no instance of $x$ for any $f(x)$?\n",
        "\n",
        "**(d) [2.5 points]** Let $r=3$, $s=2$, and $c=1$. Determine the  ranges of $f(x)$ for which the optimal decision is C1, reject, and C2 respectively.\n",
        "\n"
      ],
      "metadata": {
        "id": "Ulb-RSmYpfjo"
      }
    },
    {
      "cell_type": "markdown",
      "source": [
        "https://drive.google.com/file/d/1H8ONHSrfsnhRoCOWnWgxag3BE0FbEMqX/view?usp=sharing "
      ],
      "metadata": {
        "id": "R8K-2NdT8pcx"
      }
    },
    {
      "cell_type": "markdown",
      "source": [
        "# Question 4 [5 points]\n",
        "\n",
        "Suppose each  point  $x\\in R^n$ belongs to one out of six classes. The conditional distribution of $x$ given class $k=i$ (where $i\\in\\{1,2,3,4,5,6\\}$) is given by\n",
        "\n",
        "$f(x|k=i)=e^{-g(x,\\mu_i,\\Sigma_i)}$\n",
        "\n",
        "where $\\mu_i\\in R^n$ is the mean of the points in class $i$ and $\\Sigma_i \\in R^n \\times R^n$ is the covariance matrix for points in class $i$. Suppose that we have learned these parameters during training, and we also know the prior probabilities $\\pi_i=Pr[k=i]$. For classification of a given point $x$ during the testing phase, our predicted class is $\\hat{i}(x)=\\arg max_i Pr(k=i|x)$\n",
        "\n",
        "**(a) [1 points]** Under what distribution of $\\pi_i$ do we obtain $\\arg max_i Pr(k=i|x) = \\arg max_i f(x|k=i)$. (Hint: Use Bayes Rule)\n",
        "\n",
        "**(b) [4 points]** For the distribution of $\\pi$ obtained in part (a), show that $\\hat{i}(x)=\\arg max_i Pr(k=i|x)$ simplifies to $\\hat{i}(x)=\\arg min_i g(x,\\mu_i,\\Sigma_i)$ \n"
      ],
      "metadata": {
        "id": "EvgCl9bxBJ3q"
      }
    },
    {
      "cell_type": "markdown",
      "source": [
        "https://drive.google.com/file/d/1F-34Jutd1EiUYi0Pzw7AfuYbXTcfIRwd/view?usp=sharing"
      ],
      "metadata": {
        "id": "ahqnm_G-itd_"
      }
    },
    {
      "cell_type": "markdown",
      "source": [
        "# Question 5 [5 points]\n",
        "Consider the problem of predicting the success of students in grad school given their undergraduate GPA and GRE scores. We have the variables $X_1 =$ undergradutate GPA, $X_2$ = GRE score and Y = completing the graduate school (binary). We then fit a logistic regression which produces coefficients, $β_0 = −6$, $β_1 = 1$, $β_2 = 0.01$ Estimate the probability that George who\n",
        "has a GPA of 3.0 and a GRE score of 320 will complete graduate school successfully according to this model. By how much will the probability increase if the GPA increases to 3.5, with other factors remaining the same?\n"
      ],
      "metadata": {
        "id": "J48100Fj6OW5"
      }
    },
    {
      "cell_type": "markdown",
      "source": [
        "p = exp(-6 + 1 * GPA + .01 * GRE) / (1 + exp(-6 + 1 * GPA + .01 * GRE)) p = exp(-6 + 1 * 3.0 + .01 * 320) / (1 + exp(-6 + 1 * 3.0 + .01 * 320)) = .5498 p = exp(-6 + 1 * 3.5 + .01 * 320) / (1 + exp(-6 + 1 * 3.5 + .01 * 320)) = .6682\n",
        "\n",
        "probability increases by (.6682 - .5498) = 0.1184"
      ],
      "metadata": {
        "id": "O3UsAC4JvdnE"
      }
    }
  ]
}